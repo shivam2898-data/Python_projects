{
  "cells": [
    {
      "cell_type": "markdown",
      "metadata": {
        "id": "view-in-github",
        "colab_type": "text"
      },
      "source": [
        "<a href=\"https://colab.research.google.com/github/shivam2898-data/Python_projects/blob/main/numpy_array.ipynb\" target=\"_parent\"><img src=\"https://colab.research.google.com/assets/colab-badge.svg\" alt=\"Open In Colab\"/></a>"
      ]
    },
    {
      "cell_type": "markdown",
      "metadata": {
        "id": "0JU93DxJWZ9x"
      },
      "source": [
        "## **Introduction to Numpy**"
      ]
    },
    {
      "cell_type": "code",
      "execution_count": null,
      "metadata": {
        "id": "04f4Aq-EWWr4"
      },
      "outputs": [],
      "source": [
        "# Numpy is an open source library that is used for handle for scintific calculation.\n",
        "# why numpy is better than a list?\n",
        "# 1.numpy --->Homogeneous data type,   List ---->Hetrogeneous data type\n",
        "# 2.memory consumption ---->less, High(List)\n",
        "# 3.time consumption ---->less(numpy),  High(list)"
      ]
    },
    {
      "cell_type": "code",
      "execution_count": null,
      "metadata": {
        "colab": {
          "base_uri": "https://localhost:8080/"
        },
        "id": "7rgv_PmBXR2U",
        "outputId": "2d173657-9ec7-4851-ddd6-aba44f63f25f"
      },
      "outputs": [
        {
          "name": "stdout",
          "output_type": "stream",
          "text": [
            "Requirement already satisfied: numpy in /usr/local/lib/python3.11/dist-packages (1.26.4)\n"
          ]
        }
      ],
      "source": [
        "!pip install numpy\n",
        "\n",
        "import numpy as np"
      ]
    },
    {
      "cell_type": "code",
      "execution_count": null,
      "metadata": {
        "colab": {
          "base_uri": "https://localhost:8080/"
        },
        "id": "FRLiXRCMXGkD",
        "outputId": "bf9c207b-542a-4a3f-933b-33e39711d106"
      },
      "outputs": [
        {
          "name": "stdout",
          "output_type": "stream",
          "text": [
            "<class 'list'>\n",
            "<class 'numpy.ndarray'>\n"
          ]
        }
      ],
      "source": [
        "a=[1,34,67,90]\n",
        "b=np.array(a)\n",
        "b\n",
        "print(type(a))\n",
        "print(type(b))"
      ]
    },
    {
      "cell_type": "code",
      "execution_count": null,
      "metadata": {
        "colab": {
          "base_uri": "https://localhost:8080/"
        },
        "id": "dC-ItaZbXM76",
        "outputId": "c92d11e0-bce3-47af-80b9-8bdd0a45e7fa"
      },
      "outputs": [
        {
          "name": "stdout",
          "output_type": "stream",
          "text": [
            "total shape= (4,)\n",
            "total element= 4\n",
            "total dimension= 1\n"
          ]
        }
      ],
      "source": [
        "print(\"total shape=\", b.shape)    ##shape= n(rows)  , n(colums)\n",
        "print(\"total element=\", b.size)   ## size= n(rows)* n(colums)\n",
        "print(\"total dimension=\", b.ndim) ##ndim= number of dimension\n"
      ]
    },
    {
      "cell_type": "code",
      "execution_count": null,
      "metadata": {
        "colab": {
          "base_uri": "https://localhost:8080/"
        },
        "id": "EArfOzMXYFYn",
        "outputId": "3aafe497-6b9d-4d51-bf52-889cbecbb81b"
      },
      "outputs": [
        {
          "output_type": "execute_result",
          "data": {
            "text/plain": [
              "array([[1, 2, 3],\n",
              "       [4, 5, 6],\n",
              "       [7, 8, 9]])"
            ]
          },
          "metadata": {},
          "execution_count": 52
        }
      ],
      "source": [
        "a=[[1,2,3],[4,5,6],[7,8,9]]\n",
        "b=np.array(a)\n",
        "b"
      ]
    },
    {
      "cell_type": "code",
      "execution_count": null,
      "metadata": {
        "colab": {
          "base_uri": "https://localhost:8080/"
        },
        "id": "vPTRa0HZYRTy",
        "outputId": "36c69e4a-84f1-41a2-f8f5-038efab291f6"
      },
      "outputs": [
        {
          "name": "stdout",
          "output_type": "stream",
          "text": [
            "total shape= (3, 3)\n",
            "total element= 9\n",
            "total dimension= 2\n"
          ]
        }
      ],
      "source": [
        "print(\"total shape=\", b.shape)    ##shape= n(rows)  , n(colums)\n",
        "print(\"total element=\", b.size)   ## size= n(rows)* n(colums)\n",
        "print(\"total dimension=\", b.ndim) ##ndim= number of dimension"
      ]
    },
    {
      "cell_type": "code",
      "execution_count": null,
      "metadata": {
        "id": "YBHabRrQZGfE"
      },
      "outputs": [],
      "source": [
        "# row_1=[1,2,3]\n",
        "# row_2=[4,5,6]\n",
        "# row_3=[7,8,9]\n",
        "\n",
        "# colum_1=[1,4,7]\n",
        "# colum_1=[2,5,8]\n",
        "# colum_1=[3,6,9]"
      ]
    },
    {
      "cell_type": "markdown",
      "metadata": {
        "id": "76ixRl0XYpiS"
      },
      "source": [
        "## **User defined Array**"
      ]
    },
    {
      "cell_type": "code",
      "execution_count": null,
      "metadata": {
        "colab": {
          "base_uri": "https://localhost:8080/"
        },
        "id": "N9H-G02nYnnV",
        "outputId": "8171edea-c79b-40f9-a572-9d8751a6c857"
      },
      "outputs": [
        {
          "name": "stdout",
          "output_type": "stream",
          "text": [
            "enter size: 3\n",
            "enter item: 23\n",
            "enter item: 56\n",
            "enter item: 89\n"
          ]
        },
        {
          "data": {
            "text/plain": [
              "array([23, 56, 89])"
            ]
          },
          "execution_count": 9,
          "metadata": {},
          "output_type": "execute_result"
        }
      ],
      "source": [
        "a=[]\n",
        "size=int(input(\"enter size: \"))\n",
        "for i in range(size):\n",
        "  val=int(input(\"enter item: \"))\n",
        "  a.append(val)\n",
        "b=np.array(a)\n",
        "b"
      ]
    },
    {
      "cell_type": "markdown",
      "metadata": {
        "id": "Q1XAhQQ7coqf"
      },
      "source": [
        "## **Pre-defined function in Numpy**"
      ]
    },
    {
      "cell_type": "code",
      "execution_count": null,
      "metadata": {
        "colab": {
          "base_uri": "https://localhost:8080/"
        },
        "id": "geP63obncs3x",
        "outputId": "e9607618-d6a8-48a9-a129-880d03969ae9"
      },
      "outputs": [
        {
          "data": {
            "text/plain": [
              "array([0., 0., 0., 0.])"
            ]
          },
          "execution_count": 15,
          "metadata": {},
          "output_type": "execute_result"
        }
      ],
      "source": [
        "# 1. zeros()----> this is pre defined functions of numpy that will return all the values 0 in either one dimensional or multi-dimensional\n",
        "a=np.zeros(4)\n",
        "a"
      ]
    },
    {
      "cell_type": "code",
      "execution_count": null,
      "metadata": {
        "colab": {
          "base_uri": "https://localhost:8080/"
        },
        "id": "FjY2WHKMctQf",
        "outputId": "6351ddbc-ef92-4f84-ff5e-ba5f2f0230ba"
      },
      "outputs": [
        {
          "data": {
            "text/plain": [
              "array([[0., 0., 0., 0.],\n",
              "       [0., 0., 0., 0.],\n",
              "       [0., 0., 0., 0.]])"
            ]
          },
          "execution_count": 14,
          "metadata": {},
          "output_type": "execute_result"
        }
      ],
      "source": [
        "a=np.zeros((3,4))\n",
        "a"
      ]
    },
    {
      "cell_type": "code",
      "execution_count": null,
      "metadata": {
        "colab": {
          "base_uri": "https://localhost:8080/"
        },
        "id": "T43vU1bXdQ-m",
        "outputId": "43ab58af-98f6-4f90-cdad-615e37fe0032"
      },
      "outputs": [
        {
          "data": {
            "text/plain": [
              "array([1., 1., 1.])"
            ]
          },
          "execution_count": 17,
          "metadata": {},
          "output_type": "execute_result"
        }
      ],
      "source": [
        "# 2.ones()----> this is also pre defined function of numpy and it will return all the values as 1.\n",
        "a=np.ones(3)\n",
        "a"
      ]
    },
    {
      "cell_type": "code",
      "execution_count": null,
      "metadata": {
        "colab": {
          "base_uri": "https://localhost:8080/"
        },
        "id": "s-G_RV0tdgvk",
        "outputId": "d99db8f9-bbcf-4f1e-8215-9c819e120a95"
      },
      "outputs": [
        {
          "data": {
            "text/plain": [
              "array([[1., 1., 1., 1.],\n",
              "       [1., 1., 1., 1.],\n",
              "       [1., 1., 1., 1.]])"
            ]
          },
          "execution_count": 18,
          "metadata": {},
          "output_type": "execute_result"
        }
      ],
      "source": [
        "a=np.ones((3,4))\n",
        "a"
      ]
    },
    {
      "cell_type": "code",
      "execution_count": null,
      "metadata": {
        "id": "dFGGCYS9dkKE"
      },
      "outputs": [],
      "source": [
        "# Images---> Pixels(0-255)----> black&white images= height,width\n",
        "#colourful_images=height  ,width,  color_channel(red,gree,blue)\n",
        "# Machine learning---> actual_answer , Prediction_answer ---> optimization technique(m,b)"
      ]
    },
    {
      "cell_type": "code",
      "execution_count": null,
      "metadata": {
        "colab": {
          "base_uri": "https://localhost:8080/"
        },
        "id": "L73ClyoHeBUK",
        "outputId": "c5f5efb0-2177-41d1-d5c7-b94a585c5bea"
      },
      "outputs": [
        {
          "data": {
            "text/plain": [
              "array([[1., 0., 0.],\n",
              "       [0., 1., 0.],\n",
              "       [0., 0., 1.]])"
            ]
          },
          "execution_count": 19,
          "metadata": {},
          "output_type": "execute_result"
        }
      ],
      "source": [
        "# 3.eye()--->It will create an array in which digonal positional elements are 1 and rest all are 0.\n",
        "\n",
        "a=np.eye(3)   ##Symmatric Matix= n(r)=n(c)\n",
        "a"
      ]
    },
    {
      "cell_type": "code",
      "execution_count": null,
      "metadata": {
        "colab": {
          "base_uri": "https://localhost:8080/"
        },
        "id": "Vuc9bdRIeYNI",
        "outputId": "06ffddf9-899b-4b08-8d0a-ff535d1c9a35"
      },
      "outputs": [
        {
          "data": {
            "text/plain": [
              "array([[1., 0., 0., 0.],\n",
              "       [0., 1., 0., 0.],\n",
              "       [0., 0., 1., 0.]])"
            ]
          },
          "execution_count": 21,
          "metadata": {},
          "output_type": "execute_result"
        }
      ],
      "source": [
        "a=np.eye(3,4)    ##Asymmatric Matrix= n(r) !=n(c)\n",
        "a"
      ]
    },
    {
      "cell_type": "code",
      "execution_count": null,
      "metadata": {
        "colab": {
          "base_uri": "https://localhost:8080/"
        },
        "id": "V2cQF15xbM3d",
        "outputId": "063ce0ef-f658-4925-d032-8bb5bea6aef6"
      },
      "outputs": [
        {
          "data": {
            "text/plain": [
              "array([[ 1,  0,  0,  0],\n",
              "       [ 0, 34,  0,  0],\n",
              "       [ 0,  0, 67,  0],\n",
              "       [ 0,  0,  0, 90]])"
            ]
          },
          "execution_count": 6,
          "metadata": {},
          "output_type": "execute_result"
        }
      ],
      "source": [
        "# 4 diag()----> it will create an array in which we can set digonal positional elements.\n",
        "\n",
        "a=np.array([1,34,67,90])\n",
        "a\n",
        "b=np.diag(a)\n",
        "b"
      ]
    },
    {
      "cell_type": "code",
      "execution_count": null,
      "metadata": {
        "colab": {
          "base_uri": "https://localhost:8080/"
        },
        "id": "m8h8h15Ebn4E",
        "outputId": "57f3739e-9195-4cac-feef-99993aad79c3"
      },
      "outputs": [
        {
          "data": {
            "text/plain": [
              "array([8, 9, 1])"
            ]
          },
          "execution_count": 5,
          "metadata": {},
          "output_type": "execute_result"
        }
      ],
      "source": [
        "# 5. random module\n",
        "\n",
        "#a). Randint()----> randint(min_range, max_range, total_numbers)\n",
        "\n",
        "a=np.random.randint(1,10,3)\n",
        "a"
      ]
    },
    {
      "cell_type": "code",
      "execution_count": null,
      "metadata": {
        "colab": {
          "base_uri": "https://localhost:8080/"
        },
        "id": "6VYtHPM1b3HV",
        "outputId": "adbe479e-3204-40ad-fedf-e15b3ce59657"
      },
      "outputs": [
        {
          "data": {
            "text/plain": [
              "array([0.90268704, 0.16145082, 0.92144004, 0.45713462])"
            ]
          },
          "execution_count": 7,
          "metadata": {},
          "output_type": "execute_result"
        }
      ],
      "source": [
        "#b). Rand()----> it will generate random number in range 0-1.\n",
        "a=np.random.rand(4)\n",
        "a"
      ]
    },
    {
      "cell_type": "code",
      "execution_count": null,
      "metadata": {
        "colab": {
          "base_uri": "https://localhost:8080/"
        },
        "id": "IT4bXuw4cQcn",
        "outputId": "dd1ddc87-70c9-43c1-c850-c38fc5417e15"
      },
      "outputs": [
        {
          "data": {
            "text/plain": [
              "array([[0.1821002 , 0.78714028, 0.51769166],\n",
              "       [0.16494994, 0.30997187, 0.09030248]])"
            ]
          },
          "execution_count": 8,
          "metadata": {},
          "output_type": "execute_result"
        }
      ],
      "source": [
        "a=np.random.rand(2,3)\n",
        "a"
      ]
    },
    {
      "cell_type": "code",
      "execution_count": null,
      "metadata": {
        "colab": {
          "base_uri": "https://localhost:8080/"
        },
        "id": "b-fuv7pqcT3o",
        "outputId": "47a0a8ec-7c98-4047-b302-8b42779860eb"
      },
      "outputs": [
        {
          "data": {
            "text/plain": [
              "array([4, 1, 6])"
            ]
          },
          "execution_count": 11,
          "metadata": {},
          "output_type": "execute_result"
        }
      ],
      "source": [
        "#c). seed()----> it will fix our random generated data.\n",
        "\n",
        "np.random.seed(45)   # compulsory to pass an argument.\n",
        "a=np.random.randint(1,10,3)\n",
        "a"
      ]
    },
    {
      "cell_type": "code",
      "execution_count": null,
      "metadata": {
        "colab": {
          "base_uri": "https://localhost:8080/"
        },
        "id": "rlJ0qQpqc150",
        "outputId": "62d162ae-aced-4bb4-aa99-5d8594b7ad36"
      },
      "outputs": [
        {
          "data": {
            "text/plain": [
              "array([10, 20, 30, 40, 50, 60, 70, 80, 90])"
            ]
          },
          "execution_count": 12,
          "metadata": {},
          "output_type": "execute_result"
        }
      ],
      "source": [
        "##view and copy\n",
        "\n",
        "\n",
        "#view---> modification in original data.\n",
        "#copy---> changes in duplicate entries.\n",
        "\n",
        "a=np.array([10,20,30,40,50,60,70,80,90])\n",
        "a"
      ]
    },
    {
      "cell_type": "code",
      "execution_count": null,
      "metadata": {
        "colab": {
          "base_uri": "https://localhost:8080/"
        },
        "id": "FzOHCWEOfxuf",
        "outputId": "e4d86b79-8840-4519-f758-286ba21c66f9"
      },
      "outputs": [
        {
          "data": {
            "text/plain": [
              "array([10, 20, 30,  0,  0,  0, 70, 80, 90])"
            ]
          },
          "execution_count": 14,
          "metadata": {},
          "output_type": "execute_result"
        }
      ],
      "source": [
        "#view\n",
        "b=a[3:6]\n",
        "b[:]=0\n",
        "b\n",
        "a"
      ]
    },
    {
      "cell_type": "code",
      "execution_count": null,
      "metadata": {
        "colab": {
          "base_uri": "https://localhost:8080/"
        },
        "id": "IDUzztN2f_jr",
        "outputId": "d759e59f-44f3-417b-d5eb-25a3918115d2"
      },
      "outputs": [
        {
          "data": {
            "text/plain": [
              "array([10, 20, 30, 40, 50, 60, 70, 80, 90])"
            ]
          },
          "execution_count": 17,
          "metadata": {},
          "output_type": "execute_result"
        }
      ],
      "source": [
        "#copy\n",
        "a=np.array([10,20,30,40,50,60,70,80,90])\n",
        "b=a[3:6].copy()\n",
        "b[:]=0\n",
        "b\n",
        "a"
      ]
    },
    {
      "cell_type": "markdown",
      "metadata": {
        "id": "gs-fyRk_gPj5"
      },
      "source": [
        "## **Conditional Selection in Numpy**"
      ]
    },
    {
      "cell_type": "code",
      "execution_count": null,
      "metadata": {
        "colab": {
          "base_uri": "https://localhost:8080/"
        },
        "id": "l-nyQdj-gT7B",
        "outputId": "1fb1f149-a398-4f0e-f6de-e1bb93618ded"
      },
      "outputs": [
        {
          "data": {
            "text/plain": [
              "array([ 1,  2,  3,  4,  5,  6,  7,  8,  9, 10, 11, 12, 13, 14, 15])"
            ]
          },
          "execution_count": 19,
          "metadata": {},
          "output_type": "execute_result"
        }
      ],
      "source": [
        "#arange()\n",
        "a=np.arange(1,16,1)\n",
        "a"
      ]
    },
    {
      "cell_type": "code",
      "execution_count": null,
      "metadata": {
        "colab": {
          "base_uri": "https://localhost:8080/"
        },
        "id": "eeeuJSaFgbLM",
        "outputId": "d2179f76-9a2d-4845-a361-3423ea55489f"
      },
      "outputs": [
        {
          "data": {
            "text/plain": [
              "array([False, False, False, False, False, False, False, False, False,\n",
              "       False,  True,  True,  True,  True,  True])"
            ]
          },
          "execution_count": 20,
          "metadata": {},
          "output_type": "execute_result"
        }
      ],
      "source": [
        "a>10"
      ]
    },
    {
      "cell_type": "code",
      "execution_count": null,
      "metadata": {
        "colab": {
          "base_uri": "https://localhost:8080/"
        },
        "id": "wNiUVb0Ngcie",
        "outputId": "cf998a01-e850-4766-b41c-15fdbef609ee"
      },
      "outputs": [
        {
          "data": {
            "text/plain": [
              "array([11, 12, 13, 14, 15])"
            ]
          },
          "execution_count": 21,
          "metadata": {},
          "output_type": "execute_result"
        }
      ],
      "source": [
        "b=a>10\n",
        "a[b]"
      ]
    },
    {
      "cell_type": "code",
      "execution_count": null,
      "metadata": {
        "colab": {
          "base_uri": "https://localhost:8080/"
        },
        "id": "9iKNA6Zygh4s",
        "outputId": "1ac72b91-9bd1-4c04-d6bb-dbe49d2c3bbc"
      },
      "outputs": [
        {
          "data": {
            "text/plain": [
              "array([ 2,  4,  6,  8, 10, 12, 14])"
            ]
          },
          "execution_count": 22,
          "metadata": {},
          "output_type": "execute_result"
        }
      ],
      "source": [
        "a[a%2==0]"
      ]
    },
    {
      "cell_type": "markdown",
      "metadata": {
        "id": "4eC9LTOWgk-4"
      },
      "source": [
        "## **Reshaping the Array**"
      ]
    },
    {
      "cell_type": "code",
      "execution_count": null,
      "metadata": {
        "colab": {
          "base_uri": "https://localhost:8080/"
        },
        "id": "dShgtv6PgohR",
        "outputId": "ff95f84f-58f5-47d3-d919-ea091bdc039a"
      },
      "outputs": [
        {
          "data": {
            "text/plain": [
              "array([[1, 2],\n",
              "       [3, 4]])"
            ]
          },
          "execution_count": 23,
          "metadata": {},
          "output_type": "execute_result"
        }
      ],
      "source": [
        "a=np.array([1,2,3,4]).reshape(2,2)\n",
        "a"
      ]
    },
    {
      "cell_type": "code",
      "execution_count": null,
      "metadata": {
        "colab": {
          "base_uri": "https://localhost:8080/"
        },
        "id": "jGgxa8yigwka",
        "outputId": "44dc4169-a4ce-41f3-b57e-f8ded1eb5992"
      },
      "outputs": [
        {
          "data": {
            "text/plain": [
              "array([[5, 6],\n",
              "       [7, 8]])"
            ]
          },
          "execution_count": 24,
          "metadata": {},
          "output_type": "execute_result"
        }
      ],
      "source": [
        "b=np.array([5,6,7,8]).reshape(2,2)\n",
        "b"
      ]
    },
    {
      "cell_type": "code",
      "execution_count": null,
      "metadata": {
        "colab": {
          "base_uri": "https://localhost:8080/"
        },
        "id": "GjYE34FAhEAt",
        "outputId": "1c5f6d21-4c7c-4337-88c0-56c844aa91cc"
      },
      "outputs": [
        {
          "data": {
            "text/plain": [
              "array([[ 6,  8],\n",
              "       [10, 12]])"
            ]
          },
          "execution_count": 25,
          "metadata": {},
          "output_type": "execute_result"
        }
      ],
      "source": [
        "a+b"
      ]
    },
    {
      "cell_type": "code",
      "execution_count": null,
      "metadata": {
        "colab": {
          "base_uri": "https://localhost:8080/"
        },
        "id": "rCCk95oxhGLO",
        "outputId": "c6180309-6c60-4544-8ed9-da1b59c13187"
      },
      "outputs": [
        {
          "data": {
            "text/plain": [
              "array([[-4, -4],\n",
              "       [-4, -4]])"
            ]
          },
          "execution_count": 26,
          "metadata": {},
          "output_type": "execute_result"
        }
      ],
      "source": [
        "a-b"
      ]
    },
    {
      "cell_type": "code",
      "execution_count": null,
      "metadata": {
        "colab": {
          "base_uri": "https://localhost:8080/"
        },
        "id": "JtEgR24phJCc",
        "outputId": "90861b25-d0b2-49c2-f0ea-3be530c04ea0"
      },
      "outputs": [
        {
          "data": {
            "text/plain": [
              "array([[ 5, 12],\n",
              "       [21, 32]])"
            ]
          },
          "execution_count": 27,
          "metadata": {},
          "output_type": "execute_result"
        }
      ],
      "source": [
        "a*b  ##wrong"
      ]
    },
    {
      "cell_type": "code",
      "execution_count": null,
      "metadata": {
        "colab": {
          "base_uri": "https://localhost:8080/"
        },
        "id": "kshFNUbShcFF",
        "outputId": "9b4a908e-b91e-496f-e9db-feb43b09bc6e"
      },
      "outputs": [
        {
          "data": {
            "text/plain": [
              "array([[19, 22],\n",
              "       [43, 50]])"
            ]
          },
          "execution_count": 28,
          "metadata": {},
          "output_type": "execute_result"
        }
      ],
      "source": [
        "a.dot(b)"
      ]
    },
    {
      "cell_type": "code",
      "execution_count": null,
      "metadata": {
        "colab": {
          "base_uri": "https://localhost:8080/"
        },
        "id": "c9Ewf2kPhexn",
        "outputId": "1aac3a39-f214-43ae-a8cf-d5c175ae0cf8"
      },
      "outputs": [
        {
          "data": {
            "text/plain": [
              "array([36,  5, 16,  2, 15,  9, 24, 47,  9, 13, 35, 25])"
            ]
          },
          "execution_count": 30,
          "metadata": {},
          "output_type": "execute_result"
        }
      ],
      "source": [
        "a=np.random.randint(1,50,12)\n",
        "a"
      ]
    },
    {
      "cell_type": "code",
      "execution_count": null,
      "metadata": {
        "id": "d2N7XH-Phl78"
      },
      "outputs": [],
      "source": [
        "#1*12 ,12*1\n",
        "#2*6, 6*2\n",
        "#3,4 4*3"
      ]
    },
    {
      "cell_type": "code",
      "execution_count": null,
      "metadata": {
        "colab": {
          "base_uri": "https://localhost:8080/"
        },
        "id": "cbkmLQyLhzgl",
        "outputId": "39265a78-9ee7-49f3-9d9a-3e514e80777a"
      },
      "outputs": [
        {
          "data": {
            "text/plain": [
              "array([[36,  5, 16,  2, 15,  9],\n",
              "       [24, 47,  9, 13, 35, 25]])"
            ]
          },
          "execution_count": 31,
          "metadata": {},
          "output_type": "execute_result"
        }
      ],
      "source": [
        "a.reshape(2,6)"
      ]
    },
    {
      "cell_type": "code",
      "execution_count": null,
      "metadata": {
        "colab": {
          "base_uri": "https://localhost:8080/"
        },
        "id": "3BaxfdsRh2N_",
        "outputId": "233ee565-c979-4c87-82a9-5a3b6d020035"
      },
      "outputs": [
        {
          "data": {
            "text/plain": [
              "array([[36,  5, 16,  2],\n",
              "       [15,  9, 24, 47],\n",
              "       [ 9, 13, 35, 25]])"
            ]
          },
          "execution_count": 32,
          "metadata": {},
          "output_type": "execute_result"
        }
      ],
      "source": [
        "a.reshape(3,4)"
      ]
    },
    {
      "cell_type": "code",
      "execution_count": null,
      "metadata": {
        "colab": {
          "base_uri": "https://localhost:8080/"
        },
        "id": "6xhDzRrmh4zH",
        "outputId": "5d555d43-1d3b-4335-a9c4-98dc96f53553"
      },
      "outputs": [
        {
          "data": {
            "text/plain": [
              "array([[36,  5],\n",
              "       [16,  2],\n",
              "       [15,  9],\n",
              "       [24, 47],\n",
              "       [ 9, 13],\n",
              "       [35, 25]])"
            ]
          },
          "execution_count": 35,
          "metadata": {},
          "output_type": "execute_result"
        }
      ],
      "source": [
        "a.reshape(6,2)"
      ]
    },
    {
      "cell_type": "code",
      "execution_count": null,
      "metadata": {
        "colab": {
          "base_uri": "https://localhost:8080/"
        },
        "id": "VEtrsuMJkgzS",
        "outputId": "7407b454-9121-4cdd-a463-496d221f41ab"
      },
      "outputs": [
        {
          "data": {
            "text/plain": [
              "array([[1, 2, 3],\n",
              "       [4, 5, 6],\n",
              "       [7, 8, 9]])"
            ]
          },
          "execution_count": 36,
          "metadata": {},
          "output_type": "execute_result"
        }
      ],
      "source": [
        "a=np.arange(1,10).reshape(3,3)\n",
        "a"
      ]
    },
    {
      "cell_type": "code",
      "execution_count": null,
      "metadata": {
        "colab": {
          "base_uri": "https://localhost:8080/"
        },
        "id": "c5-IyCQOkoAG",
        "outputId": "4070f721-c4be-4f69-def2-36165202bca7"
      },
      "outputs": [
        {
          "data": {
            "text/plain": [
              "45"
            ]
          },
          "execution_count": 37,
          "metadata": {},
          "output_type": "execute_result"
        }
      ],
      "source": [
        "np.sum(a)"
      ]
    },
    {
      "cell_type": "code",
      "execution_count": null,
      "metadata": {
        "colab": {
          "base_uri": "https://localhost:8080/"
        },
        "id": "OgDUfYEUkqQC",
        "outputId": "814b3a22-893b-478f-c927-eb54729a2223"
      },
      "outputs": [
        {
          "data": {
            "text/plain": [
              "array([12, 15, 18])"
            ]
          },
          "execution_count": 38,
          "metadata": {},
          "output_type": "execute_result"
        }
      ],
      "source": [
        "np.sum(a, axis=0)   ##axis=0 column wise"
      ]
    },
    {
      "cell_type": "code",
      "execution_count": null,
      "metadata": {
        "colab": {
          "base_uri": "https://localhost:8080/"
        },
        "id": "_hDbxf1ykw-J",
        "outputId": "042b05d5-e66a-4ed7-cdb0-b26f299930ca"
      },
      "outputs": [
        {
          "data": {
            "text/plain": [
              "array([ 6, 15, 24])"
            ]
          },
          "execution_count": 39,
          "metadata": {},
          "output_type": "execute_result"
        }
      ],
      "source": [
        "np.sum(a, axis=1) #axis=1 row wise operation\n"
      ]
    },
    {
      "cell_type": "code",
      "execution_count": null,
      "metadata": {
        "id": "-y0OGp_6k36y"
      },
      "outputs": [],
      "source": [
        "# Unique()---> it will create an array in which we have unique values.\n",
        "#return 3 array\n",
        "#1). arr---->unique array\n",
        "#2). return_index=True----> unique values indexing\n",
        "#3). return_counts=True----> unique values frequency\n"
      ]
    },
    {
      "cell_type": "code",
      "execution_count": null,
      "metadata": {
        "colab": {
          "base_uri": "https://localhost:8080/"
        },
        "id": "aM-vHzt2lQeq",
        "outputId": "5340b890-b473-4516-9901-e303443f7be6"
      },
      "outputs": [
        {
          "data": {
            "text/plain": [
              "array([1, 2, 3, 4, 1, 1, 1, 1, 3, 4, 5, 6, 7, 7, 7, 7, 7])"
            ]
          },
          "execution_count": 41,
          "metadata": {},
          "output_type": "execute_result"
        }
      ],
      "source": [
        "a=np.array([1,2,3,4,1,1,1,1,3,4,5,6,7,7,7,7,7])\n",
        "a"
      ]
    },
    {
      "cell_type": "code",
      "execution_count": null,
      "metadata": {
        "colab": {
          "base_uri": "https://localhost:8080/"
        },
        "id": "RKEfQqA9lZlD",
        "outputId": "d6e3737f-2c13-477c-d244-5cc4e5967275"
      },
      "outputs": [
        {
          "data": {
            "text/plain": [
              "(array([1, 2, 3, 4, 5, 6, 7]),\n",
              " array([ 0,  1,  2,  3, 10, 11, 12]),\n",
              " array([5, 1, 2, 2, 1, 1, 5]))"
            ]
          },
          "execution_count": 42,
          "metadata": {},
          "output_type": "execute_result"
        }
      ],
      "source": [
        "np.unique(a, return_index=True, return_counts=True)\n"
      ]
    },
    {
      "cell_type": "code",
      "execution_count": null,
      "metadata": {
        "colab": {
          "base_uri": "https://localhost:8080/"
        },
        "id": "pUTCnwQ-lgQ6",
        "outputId": "56b5f7e8-608d-4cdd-b835-0289b102c6a0"
      },
      "outputs": [
        {
          "data": {
            "text/plain": [
              "array([1.  , 1.25, 1.5 , 1.75, 2.  ])"
            ]
          },
          "execution_count": 43,
          "metadata": {},
          "output_type": "execute_result"
        }
      ],
      "source": [
        "#linspace()----> it will return same gap values from a given range.\n",
        "a=np.linspace(1,2,5)\n",
        "a"
      ]
    },
    {
      "cell_type": "code",
      "execution_count": null,
      "metadata": {
        "id": "vOa1yJjelrJi"
      },
      "outputs": [],
      "source": [
        "#1.25-1=0.25\n",
        "#1.5-1.25=0.25\n",
        "#1.75-1.5=0.25\n",
        "#2-1.75-0.25\n"
      ]
    },
    {
      "cell_type": "code",
      "execution_count": null,
      "metadata": {
        "colab": {
          "base_uri": "https://localhost:8080/"
        },
        "id": "M4Fpur9Vl3Nb",
        "outputId": "56dc2e06-d0c6-4e73-bdc1-eee22c19c818"
      },
      "outputs": [
        {
          "data": {
            "text/plain": [
              "array([1, 2, 3, 4, 5, 6, 7, 8, 9])"
            ]
          },
          "execution_count": 44,
          "metadata": {},
          "output_type": "execute_result"
        }
      ],
      "source": [
        "#stacking\n",
        "#1). hstack()---->\n",
        "a=np.array([1,2,3])\n",
        "b=np.array([4,5,6])\n",
        "c=np.array([7,8,9])\n",
        "np.hstack((a,b,c))"
      ]
    },
    {
      "cell_type": "code",
      "execution_count": null,
      "metadata": {
        "colab": {
          "base_uri": "https://localhost:8080/"
        },
        "id": "nHZhxns0mMyX",
        "outputId": "b18325f3-6973-40f4-eabe-914df88f9c35"
      },
      "outputs": [
        {
          "data": {
            "text/plain": [
              "array([[1, 2, 3],\n",
              "       [4, 5, 6],\n",
              "       [7, 8, 9]])"
            ]
          },
          "execution_count": 45,
          "metadata": {},
          "output_type": "execute_result"
        }
      ],
      "source": [
        "#1). vstack()---->\n",
        "a=np.array([1,2,3])\n",
        "b=np.array([4,5,6])\n",
        "c=np.array([7,8,9])\n",
        "np.vstack((a,b,c))"
      ]
    },
    {
      "cell_type": "code",
      "execution_count": null,
      "metadata": {
        "colab": {
          "base_uri": "https://localhost:8080/"
        },
        "id": "gTJrCNp4mRtt",
        "outputId": "2dfaa2f3-944f-4180-c2ce-eadff0ef3770"
      },
      "outputs": [
        {
          "data": {
            "text/plain": [
              "array([ 0.84147098, -0.521551  ,  0.89399666])"
            ]
          },
          "execution_count": 46,
          "metadata": {},
          "output_type": "execute_result"
        }
      ],
      "source": [
        "a=np.array([1,56,90])\n",
        "np.sin(a)"
      ]
    },
    {
      "cell_type": "code",
      "execution_count": null,
      "metadata": {
        "colab": {
          "base_uri": "https://localhost:8080/"
        },
        "id": "k7JqR-dumXDD",
        "outputId": "d3d588ab-072d-4e98-9ab3-59af27a0bace"
      },
      "outputs": [
        {
          "data": {
            "text/plain": [
              "array([ 0.54030231,  0.85322011, -0.44807362])"
            ]
          },
          "execution_count": 47,
          "metadata": {},
          "output_type": "execute_result"
        }
      ],
      "source": [
        "np.cos(a)"
      ]
    },
    {
      "cell_type": "code",
      "execution_count": null,
      "metadata": {
        "colab": {
          "base_uri": "https://localhost:8080/"
        },
        "id": "bI2MBfx3mYzn",
        "outputId": "df5f259f-1b4e-4f29-919b-8ca2a2d2c720"
      },
      "outputs": [
        {
          "data": {
            "text/plain": [
              "array([ 1.55740772, -0.61127369, -1.99520041])"
            ]
          },
          "execution_count": 48,
          "metadata": {},
          "output_type": "execute_result"
        }
      ],
      "source": [
        "np.tan(a)"
      ]
    },
    {
      "cell_type": "markdown",
      "metadata": {
        "id": "PXycCtcNo2cO"
      },
      "source": [
        "# 1. create an array using numpy?"
      ]
    },
    {
      "cell_type": "code",
      "execution_count": null,
      "metadata": {
        "colab": {
          "base_uri": "https://localhost:8080/"
        },
        "id": "fdclz3mAo760",
        "outputId": "ae820184-59d0-4a0d-ed51-344fc3d1c00b"
      },
      "outputs": [
        {
          "name": "stdout",
          "output_type": "stream",
          "text": [
            "enter size: 3\n",
            "enter item: 10\n",
            "enter item: 20\n",
            "enter item: 30\n"
          ]
        },
        {
          "data": {
            "text/plain": [
              "array([10, 20, 30])"
            ]
          },
          "execution_count": 5,
          "metadata": {},
          "output_type": "execute_result"
        }
      ],
      "source": [
        "a=[]\n",
        "size=int(input(\"enter size: \"))\n",
        "for i in range(size):\n",
        "  item=int(input(\"enter item: \"))\n",
        "  a.append(item)\n",
        "b=np.array(a)\n",
        "b"
      ]
    },
    {
      "cell_type": "markdown",
      "metadata": {
        "id": "uWEhmtsmp6hR"
      },
      "source": [
        "## 2.create an array of 10 random integers?"
      ]
    },
    {
      "cell_type": "code",
      "execution_count": null,
      "metadata": {
        "colab": {
          "base_uri": "https://localhost:8080/"
        },
        "id": "sb3Zuq8Tp99q",
        "outputId": "494414a5-9323-4620-8173-af12d8d6d278"
      },
      "outputs": [
        {
          "data": {
            "text/plain": [
              "array([12,  7, 17, 10, 12, 11,  7, 15, 16, 18])"
            ]
          },
          "execution_count": 9,
          "metadata": {},
          "output_type": "execute_result"
        }
      ],
      "source": [
        "a=np.random.randint(1,20,10)\n",
        "a"
      ]
    },
    {
      "cell_type": "markdown",
      "metadata": {
        "id": "9zeTai_VqXQe"
      },
      "source": [
        "## 3.create an array of elements from 10-20?"
      ]
    },
    {
      "cell_type": "code",
      "execution_count": null,
      "metadata": {
        "colab": {
          "base_uri": "https://localhost:8080/"
        },
        "id": "-dcv1rRyqZ1-",
        "outputId": "17b23987-6b54-4be4-ce1e-9b86693dc2f2"
      },
      "outputs": [
        {
          "data": {
            "text/plain": [
              "array([10, 11, 12, 13, 14, 15, 16, 17, 18, 19, 20])"
            ]
          },
          "execution_count": 10,
          "metadata": {},
          "output_type": "execute_result"
        }
      ],
      "source": [
        "a=np.arange(10,21)\n",
        "a"
      ]
    },
    {
      "cell_type": "markdown",
      "metadata": {
        "id": "fbi8W6tVqxz7"
      },
      "source": [
        "## 4.create an array which contains value 5,10 times?"
      ]
    },
    {
      "cell_type": "code",
      "execution_count": null,
      "metadata": {
        "colab": {
          "base_uri": "https://localhost:8080/"
        },
        "id": "kTZscyQnq4tp",
        "outputId": "8a9bc4c8-919b-469a-87b4-e8f2d7ba3c03"
      },
      "outputs": [
        {
          "data": {
            "text/plain": [
              "array([5, 5, 5, 5, 5, 5, 5, 5, 5, 5])"
            ]
          },
          "execution_count": 13,
          "metadata": {},
          "output_type": "execute_result"
        }
      ],
      "source": [
        "a=[5]*10\n",
        "b=np.array(a)\n",
        "b"
      ]
    },
    {
      "cell_type": "markdown",
      "metadata": {
        "id": "FOedglYzrrXe"
      },
      "source": [
        "## 5.create a one dimensional array and convert that into 3*3 matrix?"
      ]
    },
    {
      "cell_type": "code",
      "execution_count": null,
      "metadata": {
        "colab": {
          "base_uri": "https://localhost:8080/"
        },
        "id": "5YoIsXDDr3Wk",
        "outputId": "add4513a-470a-474a-cf7e-5744aeda3831"
      },
      "outputs": [
        {
          "data": {
            "text/plain": [
              "array([[1, 2, 3],\n",
              "       [4, 5, 6],\n",
              "       [7, 8, 9]])"
            ]
          },
          "execution_count": 23,
          "metadata": {},
          "output_type": "execute_result"
        }
      ],
      "source": [
        "a=np.array([1,2,3,4,5,6,7,8,9])\n",
        "a.reshape(3,3)\n",
        "\n"
      ]
    },
    {
      "cell_type": "markdown",
      "metadata": {
        "id": "SSdKe-3KtXd2"
      },
      "source": [
        "## 6.create a 2d array of size 3*3 but all the elements should be between 0 to 1?"
      ]
    },
    {
      "cell_type": "code",
      "execution_count": null,
      "metadata": {
        "colab": {
          "base_uri": "https://localhost:8080/"
        },
        "id": "Bcimj88kup5Z",
        "outputId": "3202cd82-1d02-49af-b82e-d2242141461a"
      },
      "outputs": [
        {
          "data": {
            "text/plain": [
              "array([[0.13011979, 0.21534257, 0.93984369],\n",
              "       [0.44818824, 0.01356729, 0.8201502 ],\n",
              "       [0.30277134, 0.33550978, 0.2716822 ]])"
            ]
          },
          "execution_count": 35,
          "metadata": {},
          "output_type": "execute_result"
        }
      ],
      "source": [
        "a=np.random.rand(9)\n",
        "a.reshape(3,3)"
      ]
    },
    {
      "cell_type": "markdown",
      "metadata": {
        "id": "SbQ_A8p3vU29"
      },
      "source": [
        "## 7.concatenate 2d array horizontally and vertically?\n"
      ]
    },
    {
      "cell_type": "code",
      "execution_count": null,
      "metadata": {
        "colab": {
          "background_save": true,
          "base_uri": "https://localhost:8080/"
        },
        "id": "eReg4ZU4vdhq",
        "outputId": "e0db614f-0eb2-4259-f89c-85419b635ee8"
      },
      "outputs": [
        {
          "data": {
            "text/plain": [
              "array([[1, 2, 3],\n",
              "       [4, 5, 6]])"
            ]
          },
          "execution_count": 48,
          "metadata": {},
          "output_type": "execute_result"
        }
      ],
      "source": [
        "#horizont\n",
        "a=([1,2,3])\n",
        "b=([4,5,6])\n",
        "np.hstack((a,b))\n",
        "\n",
        "#vertically\n",
        "a=([1,2,3])\n",
        "b=([4,5,6])\n",
        "np.vstack((a,b))"
      ]
    },
    {
      "cell_type": "code",
      "execution_count": null,
      "metadata": {
        "colab": {
          "base_uri": "https://localhost:8080/"
        },
        "id": "tYynk7Oxwi81",
        "outputId": "b445e805-20d9-4856-d920-77858c7cf2f6"
      },
      "outputs": [
        {
          "data": {
            "text/plain": [
              "array([[ 1,  2,  3,  7,  8,  9],\n",
              "       [ 4,  5,  6, 10, 11, 12]])"
            ]
          },
          "execution_count": 47,
          "metadata": {},
          "output_type": "execute_result"
        }
      ],
      "source": [
        "a=np.array([[1,2,3],[4,5,6]])\n",
        "b=np.array([[7,8,9],[10,11,12]])\n",
        "np.hstack((a,b))\n",
        "#np.vstack((a,b))"
      ]
    }
  ],
  "metadata": {
    "colab": {
      "provenance": [],
      "authorship_tag": "ABX9TyMS3B437OYhngMRk8KkWttz",
      "include_colab_link": true
    },
    "kernelspec": {
      "display_name": "Python 3",
      "name": "python3"
    },
    "language_info": {
      "name": "python"
    }
  },
  "nbformat": 4,
  "nbformat_minor": 0
}