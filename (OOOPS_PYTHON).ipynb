{
  "cells": [
    {
      "cell_type": "markdown",
      "metadata": {
        "id": "view-in-github",
        "colab_type": "text"
      },
      "source": [
        "<a href=\"https://colab.research.google.com/github/shivam2898-data/Python_projects/blob/main/(OOOPS_PYTHON).ipynb\" target=\"_parent\"><img src=\"https://colab.research.google.com/assets/colab-badge.svg\" alt=\"Open In Colab\"/></a>"
      ]
    },
    {
      "cell_type": "markdown",
      "id": "eecce513",
      "metadata": {
        "id": "eecce513"
      },
      "source": [
        "# Object-Oriented Programming (OOP) in Python\n",
        "\n",
        "Object-Oriented Programming (OOP) is a programming paradigm based on the concept of \"objects.\" These objects can contain data (attributes) and functionality (methods). Python is an object-oriented language, meaning it supports OOP principles like encapsulation, inheritance, polymorphism, and abstraction."
      ]
    },
    {
      "cell_type": "markdown",
      "id": "3c8c1b75",
      "metadata": {
        "id": "3c8c1b75"
      },
      "source": [
        "# Why Use OOP?\n",
        "\n",
        "Reusability: Code can be reused through inheritance and classes, reducing redundancy.\n",
        "    \n",
        "Modularity: Programs are divided into objects, making them easier to understand and maintain.\n",
        "    \n",
        "Data Protection: Encapsulation helps restrict access to certain parts of an object.\n",
        "    \n",
        "Flexibility: Polymorphism allows the same interface to interact with different types of objects.\n"
      ]
    },
    {
      "cell_type": "markdown",
      "id": "5fd17061",
      "metadata": {
        "id": "5fd17061"
      },
      "source": [
        "# Key Concepts"
      ]
    },
    {
      "cell_type": "markdown",
      "id": "098f981b",
      "metadata": {
        "id": "098f981b"
      },
      "source": [
        "# 1. Class\n",
        "\n",
        "A class is a blueprint for creating objects. It defines a structure to hold data (attributes) and functions (methods) related to that object."
      ]
    },
    {
      "cell_type": "code",
      "execution_count": null,
      "id": "54af966d",
      "metadata": {
        "id": "54af966d"
      },
      "outputs": [],
      "source": [
        "# # syntax :\n",
        "# class ClassName:\n",
        "#     # Attributes and methods\n"
      ]
    },
    {
      "cell_type": "markdown",
      "id": "880d7e4d",
      "metadata": {
        "id": "880d7e4d"
      },
      "source": [
        "# 2. Object\n",
        "\n",
        "An object is an instance of a class. It represents a specific entity created using the class blueprint."
      ]
    },
    {
      "cell_type": "code",
      "execution_count": null,
      "id": "18ccaa8a",
      "metadata": {
        "id": "18ccaa8a"
      },
      "outputs": [],
      "source": [
        "# Example\n",
        "# my_dog = Dog()"
      ]
    },
    {
      "cell_type": "markdown",
      "id": "1245366c",
      "metadata": {
        "id": "1245366c"
      },
      "source": [
        "# 3. self Keyword\n",
        "\n",
        "self is a reference to the current instance of the class. It allows you to access the object's attributes and methods.\n",
        "\n",
        "It must be the first parameter in instance methods.\n",
        "\n",
        "When calling a method, self is passed automatically."
      ]
    },
    {
      "cell_type": "markdown",
      "id": "2545b1b7",
      "metadata": {
        "id": "2545b1b7"
      },
      "source": [
        "# Why Do We Use self in OOP?\n",
        "\n",
        "In Python, self represents the instance of the class. It is used to access the attributes and methods of the object (instance) that is currently being worked on.\n",
        "\n",
        "What it does:\n",
        "\n",
        "It binds the methods and attributes to the specific object.\n",
        "\n",
        "Without self, Python would not know which object's attributes or methods to refer to.\n",
        "\n",
        "It allows us to maintain separate data for each object created from the class."
      ]
    },
    {
      "cell_type": "markdown",
      "id": "79f5c4e4",
      "metadata": {
        "id": "79f5c4e4"
      },
      "source": [
        "# What Happens If We Don’t Use self?\n",
        "\n",
        "If self is not used:\n",
        "\n",
        "The method will not have a way to refer to the object calling it.\n",
        "\n",
        "Python will raise an error when trying to access instance attributes or methods inside the class, as they are not explicitly connected to the instance."
      ]
    },
    {
      "cell_type": "code",
      "execution_count": null,
      "id": "60fe627a",
      "metadata": {
        "id": "60fe627a",
        "outputId": "72492877-3964-48d9-a913-cd3d9e07e817"
      },
      "outputs": [
        {
          "name": "stdout",
          "output_type": "stream",
          "text": [
            "Name of employee is :sam and jobrole is :Frontend Developer\n",
            "Name of employee is :Rahul and jobrole is :MLOPS Engineer\n"
          ]
        },
        {
          "data": {
            "text/plain": [
              "'Jaipur'"
            ]
          },
          "execution_count": 6,
          "metadata": {},
          "output_type": "execute_result"
        }
      ],
      "source": [
        "class Employee:\n",
        "    location = 'Jaipur'\n",
        "\n",
        "    def __init__(self,name , jobrole):\n",
        "        self.name = name\n",
        "        self.jobrole = jobrole\n",
        "\n",
        "    def getInfo(self):\n",
        "        print(f\"Name of employee is :{self.name} and jobrole is :{self.jobrole}\")\n",
        "\n",
        "e = Employee('sam', 'Frontend Developer')\n",
        "e.getInfo()\n",
        "a = Employee('Rahul', 'MLOPS Engineer')\n",
        "a.getInfo()\n",
        "Employee.location"
      ]
    },
    {
      "cell_type": "code",
      "execution_count": null,
      "id": "b250098f",
      "metadata": {
        "id": "b250098f",
        "outputId": "3e43a863-a5b4-46ca-c9e2-e12ddc8cb5fc"
      },
      "outputs": [
        {
          "name": "stdout",
          "output_type": "stream",
          "text": [
            "Max says Woof!\n",
            "Labrador this is breed\n"
          ]
        }
      ],
      "source": [
        "# Example with self\n",
        "class Dog:\n",
        "    def __init__(self, name, breed):  # Constructor with 'self'\n",
        "        self.name = name  # 'self.name' binds to the instance attribute\n",
        "        self.breed = breed\n",
        "\n",
        "    def bark(self):\n",
        "        print(f\"{self.name} says Woof!\")\n",
        "        print(f\"{self.breed} this is breed\")\n",
        "\n",
        "dog1 = Dog(\"Buddy\", \"Golden Retriever\")\n",
        "dog2 = Dog(\"Max\", \"Labrador\")\n",
        "\n",
        "# Access attributes and methods\n",
        "dog1.bark()\n",
        "dog2.bark()\n"
      ]
    },
    {
      "cell_type": "code",
      "execution_count": null,
      "id": "bd84f051",
      "metadata": {
        "colab": {
          "base_uri": "https://localhost:8080/",
          "height": 176
        },
        "id": "bd84f051",
        "outputId": "a2922bb5-7d25-4d09-f731-7ea9e62e4d58"
      },
      "outputs": [
        {
          "output_type": "error",
          "ename": "TypeError",
          "evalue": "Dog.__init__() takes 2 positional arguments but 3 were given",
          "traceback": [
            "\u001b[0;31m---------------------------------------------------------------------------\u001b[0m",
            "\u001b[0;31mTypeError\u001b[0m                                 Traceback (most recent call last)",
            "\u001b[0;32m<ipython-input-2-bb361acef3fd>\u001b[0m in \u001b[0;36m<cell line: 0>\u001b[0;34m()\u001b[0m\n\u001b[1;32m     10\u001b[0m \u001b[0;34m\u001b[0m\u001b[0m\n\u001b[1;32m     11\u001b[0m \u001b[0;31m# Create an object\u001b[0m\u001b[0;34m\u001b[0m\u001b[0;34m\u001b[0m\u001b[0m\n\u001b[0;32m---> 12\u001b[0;31m \u001b[0mdog1\u001b[0m \u001b[0;34m=\u001b[0m \u001b[0mDog\u001b[0m\u001b[0;34m(\u001b[0m\u001b[0;34m\"Buddy\"\u001b[0m\u001b[0;34m,\u001b[0m \u001b[0;34m\"Golden Retriever\"\u001b[0m\u001b[0;34m)\u001b[0m\u001b[0;34m\u001b[0m\u001b[0;34m\u001b[0m\u001b[0m\n\u001b[0m",
            "\u001b[0;31mTypeError\u001b[0m: Dog.__init__() takes 2 positional arguments but 3 were given"
          ]
        }
      ],
      "source": [
        "# Example Without self\n",
        "\n",
        "class Dog:\n",
        "    def __init__(name, breed):  # Missing 'self'\n",
        "        name = name  # This won't bind to the instance\n",
        "        breed = breed  # This won't bind to the instance\n",
        "\n",
        "    def bark():\n",
        "        print(f\"{name} says Woof!\")  # This will cause an error\n",
        "\n",
        "# Create an object\n",
        "dog1 = Dog(\"Buddy\", \"Golden Retriever\")\n"
      ]
    },
    {
      "cell_type": "markdown",
      "id": "7bee44eb",
      "metadata": {
        "id": "7bee44eb"
      },
      "source": [
        "# 4. Attributes\n",
        "\n",
        "Attributes are variables that hold data about an object. They are defined inside a class and represent the properties or state of an object."
      ]
    },
    {
      "cell_type": "code",
      "execution_count": null,
      "id": "cb11088d",
      "metadata": {
        "id": "cb11088d"
      },
      "outputs": [],
      "source": [
        "# Example\n",
        "class Dog:\n",
        "    def __init__(self, name, breed):\n",
        "        self.name = name  # Attribute\n",
        "        self.breed = breed  # Attribute\n",
        "\n",
        "# Here, name and breed are attributes of the Dog class."
      ]
    },
    {
      "cell_type": "markdown",
      "id": "8c1c3a9a",
      "metadata": {
        "id": "8c1c3a9a"
      },
      "source": [
        "# 5. Methods\n",
        "\n",
        "Methods are functions defined inside a class that operate on the object’s attributes. They define the behavior of an object."
      ]
    },
    {
      "cell_type": "code",
      "execution_count": null,
      "id": "c120599e",
      "metadata": {
        "id": "c120599e"
      },
      "outputs": [],
      "source": [
        "# Example\n",
        "class Dog:\n",
        "    def __init__(self, name, breed):\n",
        "        self.name = name\n",
        "        self.breed = breed\n",
        "\n",
        "    def bark(self):  # Method\n",
        "        print(f\"{self.name} says Woof!\")\n"
      ]
    },
    {
      "cell_type": "code",
      "execution_count": null,
      "id": "7ee7f739",
      "metadata": {
        "id": "7ee7f739",
        "outputId": "27c56986-48a7-4cf6-da21-855c48a0a02e"
      },
      "outputs": [
        {
          "name": "stdout",
          "output_type": "stream",
          "text": [
            "My dog's name is Buddy and its breed is Golden Retriever.\n",
            "Buddy says Woof!\n"
          ]
        }
      ],
      "source": [
        "class Dog:\n",
        "    def __init__(self, name, breed):\n",
        "        self.name = name  # Attributes\n",
        "        self.breed = breed\n",
        "\n",
        "    def bark(self):  # Method\n",
        "        print(f\"{self.name} says Woof!\")\n",
        "\n",
        "# Creating an object of the class\n",
        "my_dog = Dog(\"Buddy\", \"Golden Retriever\")\n",
        "\n",
        "# Accessing attributes and methods\n",
        "print(f\"My dog's name is {my_dog.name} and its breed is {my_dog.breed}.\")\n",
        "my_dog.bark()\n"
      ]
    },
    {
      "cell_type": "markdown",
      "id": "c83a811d",
      "metadata": {
        "id": "c83a811d"
      },
      "source": [
        "# Task1:\n",
        "\n",
        "Create a Calculator class.\n",
        "\n",
        "Add methods for addition, subtraction, multiplication, and division.\n",
        "\n",
        "Use the self parameter to access the numbers."
      ]
    },
    {
      "cell_type": "code",
      "execution_count": null,
      "id": "be773644",
      "metadata": {
        "id": "be773644",
        "outputId": "2f63bc5f-77c3-4293-e56e-b2c21c2b7eb2"
      },
      "outputs": [
        {
          "name": "stdout",
          "output_type": "stream",
          "text": [
            "12\n",
            "8\n",
            "20\n",
            "5.0\n"
          ]
        }
      ],
      "source": [
        "class Calculator:\n",
        "    def __init__(self, num1, num2):\n",
        "        self.num1 = num1\n",
        "        self.num2 = num2\n",
        "\n",
        "    def add(self):\n",
        "        return self.num1 + self.num2\n",
        "\n",
        "    def subtract(self):\n",
        "        return self.num1 - self.num2\n",
        "\n",
        "    def multiply(self):\n",
        "        return self.num1 * self.num2\n",
        "\n",
        "    def divide(self):\n",
        "        if self.num2 != 0:\n",
        "            return self.num1 / self.num2\n",
        "        else:\n",
        "            return \"Division by zero is not allowed!\"\n",
        "\n",
        "calc = Calculator(10,2)\n",
        "print(calc.add())\n",
        "print(calc.subtract())\n",
        "print(calc.multiply())\n",
        "print(calc.divide())\n"
      ]
    },
    {
      "cell_type": "markdown",
      "id": "d025f878",
      "metadata": {
        "id": "d025f878"
      },
      "source": [
        "# Example 2: Create a Bank Account Class\n",
        "    \n",
        "Task:\n",
        "\n",
        "Define a BankAccount class.\n",
        "\n",
        "Add attributes for account holder name and balance.\n",
        "\n",
        "Add methods to deposit, withdraw, and check balance."
      ]
    },
    {
      "cell_type": "code",
      "execution_count": null,
      "id": "053ef547",
      "metadata": {
        "id": "053ef547",
        "outputId": "ec34cfcd-e28a-4c3c-c6c1-74f27cc563c0"
      },
      "outputs": [
        {
          "name": "stdout",
          "output_type": "stream",
          "text": [
            "500 deposited. New balance: 1500\n",
            "300 withdrawn. Remaining balance: 1200\n",
            "Account balance for Saurabh: 1200\n"
          ]
        }
      ],
      "source": [
        "class BankAccount:\n",
        "    def __init__(self, holder_name, balance=0):\n",
        "        self.holder_name = holder_name\n",
        "        self.balance = balance\n",
        "\n",
        "    def deposit(self, amount):\n",
        "        self.balance += amount\n",
        "        print(f\"{amount} deposited. New balance: {self.balance}\")\n",
        "\n",
        "    def withdraw(self, amount):\n",
        "        if amount <= self.balance:\n",
        "            self.balance -= amount  ## self.balance = self.balance - amount\n",
        "            print(f\"{amount} withdrawn. Remaining balance: {self.balance}\")\n",
        "        else:\n",
        "            print(\"Insufficient funds!\")\n",
        "\n",
        "    def check_balance(self):\n",
        "        return f\"Account balance for {self.holder_name}: {self.balance}\"\n",
        "\n",
        "# Test the BankAccount class\n",
        "account = BankAccount(\"Saurabh\", 1000)\n",
        "account.deposit(500)\n",
        "account.withdraw(300)\n",
        "print(account.check_balance())\n"
      ]
    },
    {
      "cell_type": "markdown",
      "id": "7e7cdf74",
      "metadata": {
        "id": "7e7cdf74"
      },
      "source": [
        "# Example 3: Create a Student Class\n",
        "    \n",
        "Task:\n",
        "\n",
        "Define a Student class with attributes like name, age, and marks.\n",
        "\n",
        "Add a method to display the student details.\n",
        "\n",
        "Add a method to check if the student passed (marks >= 40)."
      ]
    },
    {
      "cell_type": "code",
      "execution_count": null,
      "id": "f8503b0e",
      "metadata": {
        "id": "f8503b0e",
        "outputId": "390a70cf-bc4a-4cba-d031-2e174c1f7daa"
      },
      "outputs": [
        {
          "name": "stdout",
          "output_type": "stream",
          "text": [
            "Name: Riya, Age: 20, Marks: 85\n",
            "Passed\n"
          ]
        }
      ],
      "source": [
        "class Student:\n",
        "    def __init__(self, name, age, marks):\n",
        "        self.name = name\n",
        "        self.age = age\n",
        "        self.marks = marks\n",
        "\n",
        "    def display_details(self):\n",
        "        print(f\"Name: {self.name}, Age: {self.age}, Marks: {self.marks}\")\n",
        "\n",
        "    def has_passed(self):\n",
        "        if self.marks >= 40:\n",
        "            return \"Passed\"\n",
        "        else:\n",
        "            return \"Failed\"\n",
        "\n",
        "# Test the Student class\n",
        "student = Student(\"Riya\", 20, 85)\n",
        "student.display_details()\n",
        "print(student.has_passed())"
      ]
    },
    {
      "cell_type": "markdown",
      "id": "a7dc5dfc",
      "metadata": {
        "id": "a7dc5dfc"
      },
      "source": [
        "# Example 4: Create a Library System\n",
        "    \n",
        "Task:\n",
        "\n",
        "Define a Book class with attributes like title, author, and availability.\n",
        "\n",
        "Add methods to check availability and borrow/return the book."
      ]
    },
    {
      "cell_type": "code",
      "execution_count": null,
      "id": "9e45ac58",
      "metadata": {
        "id": "9e45ac58",
        "outputId": "c60406f1-fb90-49c5-8da1-a8e20fca78be"
      },
      "outputs": [
        {
          "name": "stdout",
          "output_type": "stream",
          "text": [
            "You have borrowed 'The Alchemist'.\n",
            "'The Alchemist' is not available.\n",
            "'The Alchemist' has been returned. Thank you!\n"
          ]
        }
      ],
      "source": [
        "class Book:\n",
        "    def __init__(self, title, author):\n",
        "        self.title = title\n",
        "        self.author = author\n",
        "        self.is_available = True\n",
        "\n",
        "    def borrow(self):\n",
        "        if self.is_available:\n",
        "            self.is_available = False\n",
        "            return f\"You have borrowed '{self.title}'.\"\n",
        "        else:\n",
        "            return f\"'{self.title}' is not available.\"\n",
        "\n",
        "    def return_book(self):\n",
        "        self.is_available = True\n",
        "        return f\"'{self.title}' has been returned. Thank you!\"\n",
        "\n",
        "# Test the Book class\n",
        "book1 = Book(\"The Alchemist\", \"Paulo Coelho\")\n",
        "print(book1.borrow())\n",
        "print(book1.borrow())\n",
        "print(book1.return_book())\n"
      ]
    },
    {
      "cell_type": "markdown",
      "id": "afe8c96b",
      "metadata": {
        "id": "afe8c96b"
      },
      "source": [
        "# Example 5: Create an Employee Management System\n",
        "    \n",
        "Task:\n",
        "\n",
        "Define an Employee class with attributes like name, ID, and salary.\n",
        "\n",
        "Add a method to calculate annual salary.\n",
        "\n",
        "Add a method to display employee details."
      ]
    },
    {
      "cell_type": "code",
      "execution_count": null,
      "id": "22911949",
      "metadata": {
        "id": "22911949",
        "outputId": "5ee8fde1-d373-4eb1-998f-f85df2e53a27"
      },
      "outputs": [
        {
          "name": "stdout",
          "output_type": "stream",
          "text": [
            "Employee ID: 101, Name: Ankit, Monthly Salary: 50000\n",
            "600000\n"
          ]
        }
      ],
      "source": [
        "class Employee:\n",
        "    def __init__(self, name, emp_id, salary):\n",
        "        self.name = name\n",
        "        self.emp_id = emp_id\n",
        "        self.salary = salary\n",
        "\n",
        "    def calculate_annual_salary(self):\n",
        "        return self.salary * 12\n",
        "\n",
        "    def display_details(self):\n",
        "        print(f\"Employee ID: {self.emp_id}, Name: {self.name}, Monthly Salary: {self.salary}\")\n",
        "\n",
        "# Test the Employee class\n",
        "employee = Employee(\"Ankit\", 101, 50000)\n",
        "employee.display_details()\n",
        "print(employee.calculate_annual_salary())"
      ]
    },
    {
      "cell_type": "markdown",
      "id": "6356a659",
      "metadata": {
        "id": "6356a659"
      },
      "source": [
        "# What is Abstraction in OOP?\n",
        "\n",
        "Abstraction is a concept in Object-Oriented Programming (OOP) that hides unnecessary details from the user and only shows the essential features of an object. It allows you to focus on what an object does rather than how it does it.\n",
        "\n",
        "Simple Explanation\n",
        "Imagine using a mobile phone:\n",
        "\n",
        "You just press a button to make a call (the functionality or \"what it does\").\n",
        "\n",
        "You don’t need to know how the phone internally processes your input and connects the call (the implementation or \"how it does it\").\n",
        "\n",
        "Similarly, in programming:\n",
        "\n",
        "Abstraction shows only the important details (methods or features) to the user.\n",
        "The complex internal working is hidden."
      ]
    },
    {
      "cell_type": "markdown",
      "id": "7af65e97",
      "metadata": {
        "id": "7af65e97"
      },
      "source": [
        "# How Abstraction Works in Python\n",
        "\n",
        "In Python, abstraction can be implemented using:\n",
        "\n",
        "Abstract Base Classes (ABCs): These are classes that serve as a blueprint for other classes. You cannot create objects directly from an abstract class.\n",
        "    \n",
        "@abstractmethod: A decorator that defines methods in the abstract class but does not provide their implementation.\n",
        "To use abstraction, Python's abc module (Abstract Base Class) is typically used."
      ]
    },
    {
      "cell_type": "markdown",
      "id": "ca5890e4",
      "metadata": {
        "id": "ca5890e4"
      },
      "source": [
        "# Example 1: Shape Classes (Circle and Rectangle)"
      ]
    },
    {
      "cell_type": "code",
      "execution_count": null,
      "id": "6d9947cc",
      "metadata": {
        "id": "6d9947cc",
        "outputId": "42c6713e-6e62-4f95-94d6-8b0547bb4a1e"
      },
      "outputs": [
        {
          "name": "stdout",
          "output_type": "stream",
          "text": [
            "Circle Area: 78.5\n",
            "Circle Perimeter: 31.400000000000002\n"
          ]
        }
      ],
      "source": [
        "from abc import ABC, abstractmethod\n",
        "# Abstract class\n",
        "class Shape(ABC):\n",
        "    @abstractmethod\n",
        "    def area(self):\n",
        "        pass  # Abstract method, no implementation\n",
        "\n",
        "    @abstractmethod\n",
        "    def perimeter(self):\n",
        "        pass  # Abstract method, no implementation\n",
        "\n",
        "# Concrete class for Circle\n",
        "class Circle(Shape):\n",
        "    def __init__(self, radius):\n",
        "        self.radius = radius\n",
        "\n",
        "    def area(self):\n",
        "        return 3.14 * self.radius * self.radius\n",
        "\n",
        "    def perimeter(self):\n",
        "        return 2 * 3.14 * self.radius\n",
        "\n",
        "# # Concrete class for Rectangle\n",
        "# class Rectangle(Shape):\n",
        "#     def __init__(self, length, width):\n",
        "#         self.length = length\n",
        "#         self.width = width\n",
        "\n",
        "#     def area(self):\n",
        "#         return self.length * self.width\n",
        "\n",
        "#     def perimeter(self):\n",
        "#         return 2 * (self.length + self.width)\n",
        "\n",
        "# Using the classes\n",
        "circle = Circle(5)\n",
        "print(\"Circle Area:\", circle.area())\n",
        "print(\"Circle Perimeter:\", circle.perimeter())\n",
        "\n",
        "# rectangle = Rectangle(4, 7)\n",
        "# print(\"Rectangle Area:\", rectangle.area())    # Output: 28\n",
        "# print(\"Rectangle Perimeter:\", rectangle.perimeter()) # Output: 22\n"
      ]
    },
    {
      "cell_type": "code",
      "execution_count": null,
      "id": "56094529",
      "metadata": {
        "id": "56094529"
      },
      "outputs": [],
      "source": [
        "# Shape is the abstract class that defines a blueprint for shapes.\n",
        "\n",
        "# Circle and Rectangle are concrete classes that implement the abstract methods (area and perimeter) of the Shape class."
      ]
    },
    {
      "cell_type": "markdown",
      "id": "0df83e62",
      "metadata": {
        "id": "0df83e62"
      },
      "source": [
        "# Example 2: Payment System (Credit Card and PayPal)"
      ]
    },
    {
      "cell_type": "code",
      "execution_count": null,
      "id": "f671f64b",
      "metadata": {
        "id": "f671f64b",
        "outputId": "b98b2086-227d-46b6-a6e2-3b5029943de0"
      },
      "outputs": [
        {
          "name": "stdout",
          "output_type": "stream",
          "text": [
            "Credit Card payment of $100 processed.\n",
            "PayPal payment of $200 processed.\n"
          ]
        }
      ],
      "source": [
        "from abc import ABC, abstractmethod\n",
        "\n",
        "# Abstract class\n",
        "class Payment(ABC):\n",
        "    @abstractmethod\n",
        "    def make_payment(self, amount):\n",
        "        pass\n",
        "\n",
        "# Concrete class for Credit Card Payment\n",
        "class CreditCardPayment(Payment):\n",
        "    def make_payment(self, amount):\n",
        "        return f\"Credit Card payment of ${amount} processed.\"\n",
        "\n",
        "# Concrete class for PayPal Payment\n",
        "class PayPalPayment(Payment):\n",
        "    def make_payment(self, amount):\n",
        "        return f\"PayPal payment of ${amount} processed.\"\n",
        "\n",
        "# Using the classes\n",
        "payment1 = CreditCardPayment()\n",
        "print(payment1.make_payment(100))  # Output: Credit Card payment of $100 processed.\n",
        "\n",
        "payment2 = PayPalPayment()\n",
        "print(payment2.make_payment(200))  # Output: PayPal payment of $200 processed.\n"
      ]
    },
    {
      "cell_type": "code",
      "execution_count": null,
      "id": "a67e8cdf",
      "metadata": {
        "id": "a67e8cdf"
      },
      "outputs": [],
      "source": [
        "# Payment is the abstract class that defines a common interface for all payment methods.\n",
        "# CreditCardPayment and PayPalPayment are concrete classes that implement the abstract method make_payment.\n"
      ]
    },
    {
      "cell_type": "markdown",
      "id": "f18bc135",
      "metadata": {
        "id": "f18bc135"
      },
      "source": [
        "# Example3: Vehicle and Fuel Consumption\n",
        "    \n",
        "Scenario: You want to calculate the fuel consumption of different types of vehicles, but the way they consume fuel is different. Abstraction can help by providing a common interface for all vehicles while letting each type of vehicle define its own fuel consumption logic."
      ]
    },
    {
      "cell_type": "code",
      "execution_count": null,
      "id": "a93a06c5",
      "metadata": {
        "id": "a93a06c5",
        "outputId": "6f0796dd-9455-4dab-ea83-6a07819b347c"
      },
      "outputs": [
        {
          "name": "stdout",
          "output_type": "stream",
          "text": [
            "Car: 15 km/l\n",
            "Bike: 40 km/l\n",
            "Truck: 8 km/l\n"
          ]
        }
      ],
      "source": [
        "from abc import ABC, abstractmethod\n",
        "\n",
        "# Abstract class\n",
        "class Vehicle(ABC):\n",
        "    @abstractmethod\n",
        "    def fuel_efficiency(self):\n",
        "        pass  # Abstract method: to be implemented by subclasses\n",
        "\n",
        "# Concrete class for Car\n",
        "class Car(Vehicle):\n",
        "    def fuel_efficiency(self):\n",
        "        return \"Car: 15 km/l\"\n",
        "\n",
        "# Concrete class for Bike\n",
        "class Bike(Vehicle):\n",
        "    def fuel_efficiency(self):\n",
        "        return \"Bike: 40 km/l\"\n",
        "\n",
        "# Concrete class for Truck\n",
        "class Truck(Vehicle):\n",
        "    def fuel_efficiency(self):\n",
        "        return \"Truck: 8 km/l\"\n",
        "\n",
        "# Using the classes\n",
        "car = Car()\n",
        "bike = Bike()\n",
        "truck = Truck()\n",
        "\n",
        "print(car.fuel_efficiency())\n",
        "print(bike.fuel_efficiency())\n",
        "print(truck.fuel_efficiency())\n"
      ]
    },
    {
      "cell_type": "markdown",
      "id": "bfeb5967",
      "metadata": {
        "id": "bfeb5967"
      },
      "source": [
        "# What is Encapsulation in OOP?\n",
        "\n",
        "Encapsulation is one of the core concepts of Object-Oriented Programming (OOP). It refers to bundling data (attributes) and methods (functions) that work on the data into a single unit, usually a class.\n",
        "\n"
      ]
    },
    {
      "cell_type": "markdown",
      "id": "f9bc6107",
      "metadata": {
        "id": "f9bc6107"
      },
      "source": [
        "# Simple Explanation\n",
        "\n",
        "Think of a Capsule:\n",
        "    \n",
        "Just like a capsule holds its contents securely inside, encapsulation hides the internal details of an object from the outside world.\n",
        "It restricts direct access to some of an object’s attributes and methods and allows controlled access through getters and setters.\n",
        "This helps:\n",
        "Protect sensitive data from accidental modification.\n",
        "Improve code security by providing limited and controlled access."
      ]
    },
    {
      "cell_type": "markdown",
      "id": "a3a5257b",
      "metadata": {
        "id": "a3a5257b"
      },
      "source": [
        "# How Encapsulation Works in Python?\n",
        "\n",
        "By convention:\n",
        "    \n",
        "Public attributes: Directly accessible (e.g., name).\n",
        "\n",
        "Protected attributes: Use a single underscore _attribute (indicates it should not be accessed directly).\n",
        "\n",
        "Private attributes: Use double underscores __attribute (name mangling hides the attribute)."
      ]
    },
    {
      "cell_type": "markdown",
      "id": "4f0b7af3",
      "metadata": {
        "id": "4f0b7af3"
      },
      "source": [
        "# 1. What is encapsulation in OOPs?\n",
        "\n",
        "Answer:\n",
        "    \n",
        "Encapsulation is the process of bundling data (variables) and methods (functions) that operate on the data into a single unit called a class. It also involves restricting direct access to some of the object's attributes and methods to protect the integrity of the data. This is typically done by making attributes private and exposing them through public methods (getters and setters)."
      ]
    },
    {
      "cell_type": "markdown",
      "id": "3f8f686c",
      "metadata": {
        "id": "3f8f686c"
      },
      "source": [
        "# 2. Why is encapsulation important?\n",
        "\n",
        "Answer:\n",
        "    \n",
        "Encapsulation is important because:\n",
        "\n",
        "It improves data security by restricting unauthorized access.\n",
        "\n",
        "It promotes modularity by hiding implementation details.\n",
        "\n",
        "It enables control over the data by providing controlled access through methods.\n",
        "\n",
        "It enhances code maintainability and reusability by protecting data from unintended modifications."
      ]
    },
    {
      "cell_type": "markdown",
      "id": "ca2bfb20",
      "metadata": {
        "id": "ca2bfb20"
      },
      "source": [
        "# 3. How is encapsulation implemented in Python?\n",
        "\n",
        "Answer:\n",
        "    \n",
        "Encapsulation in Python is implemented by:\n",
        "\n",
        "Declaring attributes private using a double underscore prefix (__attribute).\n",
        "\n",
        "Providing public methods like getters and setters to access and modify private attributes.\n"
      ]
    },
    {
      "cell_type": "markdown",
      "id": "40ddaa71",
      "metadata": {
        "id": "40ddaa71"
      },
      "source": [
        "# 4. How do private and protected attributes relate to encapsulation?\n",
        "\n",
        "Answer:\n",
        "\n",
        "Private Attributes (__attribute): Fully encapsulate the data; they can only be accessed within the class.\n",
        "    \n",
        "Protected Attributes (_attribute): Provide partial encapsulation, indicating that they should be accessed only within the class or subclasses.\n"
      ]
    },
    {
      "cell_type": "markdown",
      "id": "f029efba",
      "metadata": {
        "id": "f029efba"
      },
      "source": [
        "# 5. Can encapsulation be achieved without using private attributes?\n",
        "\n",
        "Answer:\n",
        "    \n",
        "Yes, encapsulation can still be achieved without private attributes by using public methods to enforce data integrity. However, private attributes provide an additional layer of security to prevent accidental or unauthorized access."
      ]
    },
    {
      "cell_type": "markdown",
      "id": "2450a76f",
      "metadata": {
        "id": "2450a76f"
      },
      "source": [
        "# 6. How does encapsulation help in debugging and maintaining code?\n",
        "\n",
        "Answer:\n",
        "    \n",
        "Encapsulation helps in debugging and maintaining code by:\n",
        "\n",
        "Restricting direct access to sensitive data, reducing unintended side effects.\n",
        "\n",
        "Allowing changes to the internal implementation without affecting other parts of the program.\n",
        "\n",
        "Providing a clear interface for interacting with an object's data and behavior."
      ]
    },
    {
      "cell_type": "markdown",
      "id": "08d83d01",
      "metadata": {
        "id": "08d83d01"
      },
      "source": [
        "# 7. What are the disadvantages of encapsulation?\n",
        "\n",
        "Answer:\n",
        "    \n",
        "Some potential disadvantages include:\n",
        "\n",
        "Increased complexity in implementation, as developers need to create getters and setters.\n",
        "\n",
        "Slight performance overhead due to method calls for accessing attributes.\n",
        "\n",
        "May lead to over-engineering if used unnecessarily in simple programs."
      ]
    },
    {
      "cell_type": "markdown",
      "id": "2843a768",
      "metadata": {
        "id": "2843a768"
      },
      "source": [
        "# 8. How can encapsulation violate the DRY (Don’t Repeat Yourself) principle?\n",
        "\n",
        "Answer:\n",
        "    \n",
        "Encapsulation can violate the DRY principle when getters and setters are written redundantly for every private attribute, especially in cases where direct access to the data would suffice (e.g., simple data objects without critical security concerns)."
      ]
    },
    {
      "cell_type": "markdown",
      "id": "78c3a5be",
      "metadata": {
        "id": "78c3a5be"
      },
      "source": [
        "# 11. Is it possible to access private attributes outside the class in Python?\n",
        "\n",
        "Answer:\n",
        "    \n",
        "Yes, private attributes can be accessed using name mangling. Python internally changes the name of private attributes to _ClassName__attribute."
      ]
    },
    {
      "cell_type": "code",
      "execution_count": null,
      "id": "3582ae3b",
      "metadata": {
        "id": "3582ae3b",
        "outputId": "afef2ab8-76d1-4467-bee5-591205b2978e"
      },
      "outputs": [
        {
          "name": "stdout",
          "output_type": "stream",
          "text": [
            "Secret\n"
          ]
        }
      ],
      "source": [
        "class Example:\n",
        "    def __init__(self):\n",
        "        self.__private = \"Secret\"\n",
        "\n",
        "obj = Example()\n",
        "print(obj._Example__private)# Accessing private attribute using name mangling\n",
        "# print(obj.__private)"
      ]
    },
    {
      "cell_type": "markdown",
      "id": "b243156b",
      "metadata": {
        "id": "b243156b"
      },
      "source": [
        "# 13. How can encapsulation be misused?\n",
        "\n",
        "Answer:\n",
        "    \n",
        "Encapsulation can be misused by:\n",
        "\n",
        "Over-restricting access to attributes, making it cumbersome to interact with objects.\n",
        "\n",
        "Adding unnecessary getters and setters for every attribute, even when they don’t add value."
      ]
    },
    {
      "cell_type": "code",
      "execution_count": null,
      "id": "7dc3fe28",
      "metadata": {
        "id": "7dc3fe28",
        "outputId": "f79f8df4-0447-4f48-d662-57e77cef9a64"
      },
      "outputs": [
        {
          "name": "stdout",
          "output_type": "stream",
          "text": [
            "Red\n",
            "Blue\n"
          ]
        }
      ],
      "source": [
        "class Car:\n",
        "    def __init__(self, color):\n",
        "        self.__color = color  # Private attribute\n",
        "\n",
        "    def set_color(self, color):\n",
        "        self.__color = color  # No additional logic, just setting the value\n",
        "\n",
        "    def get_color(self):\n",
        "        return self.__color  # No additional logic, just returning the value\n",
        "\n",
        "# Usage\n",
        "car = Car(\"Red\")\n",
        "print(car.get_color())  # Accessing the color through a getter\n",
        "car.set_color(\"Blue\")   # Setting the color through a setter\n",
        "print(car.get_color())  # Output: Blue\n"
      ]
    },
    {
      "cell_type": "code",
      "execution_count": null,
      "id": "fc03c4e6",
      "metadata": {
        "id": "fc03c4e6"
      },
      "outputs": [],
      "source": [
        "# Problem:\n",
        "\n",
        "# The getter and setter add unnecessary complexity since there's no additional logic or validation in them.\n",
        "# The attribute color could have been made public without compromising the functionality."
      ]
    },
    {
      "cell_type": "markdown",
      "id": "9dc2f4a3",
      "metadata": {
        "id": "9dc2f4a3"
      },
      "source": [
        "# Example 1: Bank Account"
      ]
    },
    {
      "cell_type": "code",
      "execution_count": null,
      "id": "dc383a5f",
      "metadata": {
        "id": "dc383a5f",
        "outputId": "89684324-3c5b-4332-ef26-51f28b615c4c"
      },
      "outputs": [
        {
          "name": "stdout",
          "output_type": "stream",
          "text": [
            "Sam\n",
            "5000\n",
            "Deposit successful! New balance: 6000\n",
            "Withdrawal successful! New balance: 4000\n"
          ]
        }
      ],
      "source": [
        "class BankAccount:\n",
        "    def __init__(self, account_holder, balance):\n",
        "        self.__account_holder = account_holder  # Private attribute\n",
        "        self.__balance = balance               # Private attribute\n",
        "\n",
        "    # Getter for account holder\n",
        "    def get_account_holder(self):\n",
        "        return self.__account_holder\n",
        "\n",
        "    # Getter for balance\n",
        "    def get_balance(self):\n",
        "        return self.__balance\n",
        "\n",
        "    # Method to deposit money\n",
        "    def deposit(self, amount):\n",
        "        if amount > 0:\n",
        "            self.__balance += amount\n",
        "            return f\"Deposit successful! New balance: {self.__balance}\"\n",
        "        else:\n",
        "            return \"Invalid deposit amount!\"\n",
        "\n",
        "    # Method to withdraw money\n",
        "    def withdraw(self, amount):\n",
        "        if amount <= self.__balance:\n",
        "            self.__balance -= amount\n",
        "            return f\"Withdrawal successful! New balance: {self.__balance}\"\n",
        "        else:\n",
        "            return \"Insufficient funds!\"\n",
        "\n",
        "# Using the class\n",
        "account = BankAccount(\"Sam\", 5000)\n",
        "print(account.get_account_holder())\n",
        "print(account.get_balance())\n",
        "print(account.deposit(1000))\n",
        "print(account.withdraw(2000))\n",
        "\n",
        "# Attempt to access private attributes directly (not allowed)\n",
        "# print(account.__balance)  # Error: AttributeError\n"
      ]
    },
    {
      "cell_type": "markdown",
      "id": "36016835",
      "metadata": {
        "id": "36016835"
      },
      "source": [
        "# Example 2: Student Data"
      ]
    },
    {
      "cell_type": "code",
      "execution_count": null,
      "id": "13ee25f7",
      "metadata": {
        "id": "13ee25f7",
        "outputId": "ae2d0c53-7d6f-4f0a-9613-4866c7d37c14"
      },
      "outputs": [
        {
          "name": "stdout",
          "output_type": "stream",
          "text": [
            "Rohit\n",
            "85\n",
            "Grade updated successfully!\n",
            "90\n",
            "Invalid grade! Must be between 0 and 100.\n"
          ]
        }
      ],
      "source": [
        "class Student:\n",
        "    def __init__(self, name, grade):\n",
        "        self.name = name  # Public attribute\n",
        "        self.__grade = grade  # Private attribute\n",
        "\n",
        "    # Getter for grade\n",
        "    def get_grade(self):\n",
        "        return self.__grade\n",
        "\n",
        "    # Setter for grade (with validation)\n",
        "    def set_grade(self, new_grade):\n",
        "        if 0 <= new_grade <= 100:\n",
        "            self.__grade = new_grade\n",
        "            return \"Grade updated successfully!\"\n",
        "        else:\n",
        "            return \"Invalid grade! Must be between 0 and 100.\"\n",
        "\n",
        "# Using the class\n",
        "student = Student(\"Rohit\", 85)\n",
        "print(student.name)\n",
        "print(student.get_grade())\n",
        "print(student.set_grade(90))\n",
        "print(student.get_grade())\n",
        "# Attempt to set an invalid grade\n",
        "print(student.set_grade(150))  # Output: Invalid grade! Must be between 0 and 100.\n"
      ]
    },
    {
      "cell_type": "markdown",
      "id": "f8f59fe4",
      "metadata": {
        "id": "f8f59fe4"
      },
      "source": [
        "# Case Study 1: Healthcare System (Patient Record Management)\n",
        "    \n",
        "Problem: Develop a system for managing patient records in a hospital where:\n",
        "\n",
        "Patient details (name, age, and medical history) should be private.\n",
        "\n",
        "Only authorized methods can retrieve or update medical history.\n",
        "\n",
        "Provide a method to add new medical records while keeping previous data secure."
      ]
    },
    {
      "cell_type": "code",
      "execution_count": null,
      "id": "79d0ec33",
      "metadata": {
        "id": "79d0ec33",
        "outputId": "0779df3e-3967-4d74-cf88-172d411a5bf4"
      },
      "outputs": [
        {
          "name": "stdout",
          "output_type": "stream",
          "text": [
            "Medical record added for Rohit.\n",
            "Medical record added for Rohit.\n",
            "Medical record added for Rohit.\n",
            "Medical History for Rohit: ['2024: Flu Diagnosis', '2024: Blood Test Results Normal', '2024: Covid']\n"
          ]
        }
      ],
      "source": [
        "class Patient:\n",
        "    def __init__(self, name, age):\n",
        "        self.__name = name                 # Encapsulated name\n",
        "        self.__age = age                   # Encapsulated age\n",
        "        self.__medical_history = []        # Encapsulated medical history\n",
        "\n",
        "    def add_medical_record(self, record):\n",
        "        self.__medical_history.append(record)\n",
        "        return f\"Medical record added for {self.__name}.\"\n",
        "\n",
        "    def get_medical_history(self):\n",
        "        return f\"Medical History for {self.__name}: {self.__medical_history}\"\n",
        "\n",
        "# Usage\n",
        "patient = Patient(\"Rohit\", 30)\n",
        "print(patient.add_medical_record(\"2024: Flu Diagnosis\"))\n",
        "print(patient.add_medical_record(\"2024: Blood Test Results Normal\"))\n",
        "print(patient.add_medical_record(\"2024: Covid\"))\n",
        "\n",
        "print(patient.get_medical_history())  # Retrieve medical history\n"
      ]
    },
    {
      "cell_type": "markdown",
      "id": "8bbc8058",
      "metadata": {
        "id": "8bbc8058"
      },
      "source": [
        "# Case Study 2: Online Examination System\n",
        "    \n",
        "Problem: Create a system for online examinations where:\n",
        "\n",
        "Student scores are private and cannot be accessed directly.\n",
        "\n",
        "Scores can only be added or retrieved using specific methods.\n",
        "\n",
        "Implement a feature to calculate the average score of the student.\n"
      ]
    },
    {
      "cell_type": "code",
      "execution_count": null,
      "id": "3da600e5",
      "metadata": {
        "id": "3da600e5",
        "outputId": "be204e9c-856f-47c9-9cac-f63772c482a2"
      },
      "outputs": [
        {
          "name": "stdout",
          "output_type": "stream",
          "text": [
            "Score added for Math: 10.\n",
            "Score added for Science: 20.\n",
            "Scores for Sam: [{'subject': 'Math', 'score': 10}, {'subject': 'Science', 'score': 20}]\n",
            "Average Score: 15.00\n"
          ]
        }
      ],
      "source": [
        "class Exam:\n",
        "    def __init__(self, student_name):\n",
        "        self.__student_name = student_name  # Encapsulated student name\n",
        "        self.__scores = []                  # Encapsulated list of scores\n",
        "\n",
        "    def add_score(self, subject, score):\n",
        "        if 0 <= score <= 100:\n",
        "            self.__scores.append({\"subject\": subject, \"score\": score})\n",
        "            return f\"Score added for {subject}: {score}.\"\n",
        "        return \"Invalid score! Must be between 0 and 100.\"\n",
        "\n",
        "    def get_scores(self):\n",
        "        return f\"Scores for {self.__student_name}: {self.__scores}\"\n",
        "\n",
        "    def calculate_average(self):\n",
        "        if not self.__scores:\n",
        "            return \"No scores available.\"\n",
        "        total = sum(item[\"score\"] for item in self.__scores)\n",
        "        return f\"Average Score: {total / len(self.__scores):.2f}\"\n",
        "\n",
        "# Usage\n",
        "exam = Exam(\"Sam\")\n",
        "print(exam.add_score(\"Math\", 10))        # Add a score\n",
        "print(exam.add_score(\"Science\", 20))    # Add another score\n",
        "print(exam.get_scores())                # Retrieve all scores\n",
        "print(exam.calculate_average())         # Calculate average score\n"
      ]
    },
    {
      "cell_type": "markdown",
      "id": "85ae3f1f",
      "metadata": {
        "id": "85ae3f1f"
      },
      "source": [
        "# Case Study 3: Smart Home Device Control\n",
        "    \n",
        "Problem: Create a system to control smart home devices:\n",
        "\n",
        "Each device has a private state (e.g., on/off).\n",
        "\n",
        "Users can only turn devices on or off using methods.\n",
        "\n",
        "Provide a method to check the current state of a specific device.\n"
      ]
    },
    {
      "cell_type": "code",
      "execution_count": null,
      "id": "6dd558a6",
      "metadata": {
        "id": "6dd558a6",
        "outputId": "e7baf753-492a-4e0f-9149-cf176ada7e29"
      },
      "outputs": [
        {
          "name": "stdout",
          "output_type": "stream",
          "text": [
            "Device Air Conditioner added.\n",
            "Device Air Conditioner is now ON.\n",
            "Device Air Conditioner is ON.\n",
            "Device Air Conditioner is now OFF.\n",
            "Device Air Conditioner is OFF.\n"
          ]
        }
      ],
      "source": [
        "class SmartHome:\n",
        "    def __init__(self):\n",
        "        self.__devices = {}  # Encapsulated dictionary to store device states\n",
        "\n",
        "    def add_device(self, device_name):\n",
        "        if device_name not in self.__devices:\n",
        "            self.__devices[device_name] = False  # Default state: Off\n",
        "            return f\"Device {device_name} added.\"\n",
        "        return f\"Device {device_name} already exists.\"\n",
        "\n",
        "    def turn_on_device(self, device_name):\n",
        "        if device_name in self.__devices:\n",
        "            self.__devices[device_name] = True\n",
        "            return f\"Device {device_name} is now ON.\"\n",
        "        return f\"Device {device_name} not found.\"\n",
        "\n",
        "    def turn_off_device(self, device_name):\n",
        "        if device_name in self.__devices:\n",
        "            self.__devices[device_name] = False\n",
        "            return f\"Device {device_name} is now OFF.\"\n",
        "        return f\"Device {device_name} not found.\"\n",
        "\n",
        "    def get_device_state(self, device_name):\n",
        "        if device_name in self.__devices:\n",
        "            state = \"ON\" if self.__devices[device_name] else \"OFF\"\n",
        "            return f\"Device {device_name} is {state}.\"\n",
        "        return f\"Device {device_name} not found.\"\n",
        "\n",
        "# Usage\n",
        "smart_home = SmartHome()\n",
        "print(smart_home.add_device(\"Air Conditioner\"))  # Add a device\n",
        "print(smart_home.turn_on_device(\"Air Conditioner\"))  # Turn on a device\n",
        "print(smart_home.get_device_state(\"Air Conditioner\"))  # Check the device state\n",
        "print(smart_home.turn_off_device(\"Air Conditioner\"))  # Turn off the device\n",
        "print(smart_home.get_device_state(\"Air Conditioner\"))  # Check the device state\n"
      ]
    },
    {
      "cell_type": "markdown",
      "id": "cbbe9e5e",
      "metadata": {
        "id": "cbbe9e5e"
      },
      "source": [
        "# Inheritance in OOPs\n",
        "\n",
        "Inheritance is a fundamental concept in Object-Oriented Programming that allows a class (called the child class) to inherit attributes and methods from another class (called the parent class). This promotes code reusability and modularity."
      ]
    },
    {
      "cell_type": "markdown",
      "id": "bd604272",
      "metadata": {
        "id": "bd604272"
      },
      "source": [
        "# Key Benefits of Inheritance\n",
        "\n",
        "Code Reusability: The child class can reuse the code in the parent class.\n",
        "    \n",
        "Extensibility: The child class can add or modify functionalities of the parent class.\n",
        "    \n",
        "Hierarchical Structure: Relationships between classes are more organized"
      ]
    },
    {
      "cell_type": "markdown",
      "id": "b788b14e",
      "metadata": {
        "id": "b788b14e"
      },
      "source": [
        "# Types of Inheritance\n",
        "\n",
        "Single Inheritance: A child class inherits from one parent class.\n",
        "    \n",
        "Multiple Inheritance: A child class inherits from two or more parent classes.\n",
        "    \n",
        "Multilevel Inheritance: A child class inherits from a parent class, and that parent class inherits from another parent class."
      ]
    },
    {
      "cell_type": "markdown",
      "id": "f9e6f515",
      "metadata": {
        "id": "f9e6f515"
      },
      "source": [
        "# Single Inheritance"
      ]
    },
    {
      "cell_type": "code",
      "execution_count": null,
      "id": "cd451730",
      "metadata": {
        "id": "cd451730",
        "outputId": "d0c93346-f644-4625-ab68-6b6ca25a88f6"
      },
      "outputs": [
        {
          "name": "stdout",
          "output_type": "stream",
          "text": [
            "Project is  scheduled....\n",
            "Name of location is Delhi\n"
          ]
        }
      ],
      "source": [
        "class Employee:\n",
        "    def __init__(self,location):\n",
        "        self.location = location\n",
        "    def get_location(self):\n",
        "        print(f\"Name of location is {self.location}\")\n",
        "class Manager(Employee):\n",
        "    def get_project(self):\n",
        "        print(\"Project is  scheduled....\")\n",
        "\n",
        "sam = Employee('Jaipur')\n",
        "# sam.get_location()\n",
        "Mohit = Manager('Delhi')\n",
        "Mohit.get_project()\n",
        "Mohit.get_location()"
      ]
    },
    {
      "cell_type": "markdown",
      "id": "48d21cfc",
      "metadata": {
        "id": "48d21cfc"
      },
      "source": [
        "# Multiple Inheritance\n",
        "\n",
        "In multiple inheritance, a single child class inherits from two or more parent classes. This allows the child class to inherit attributes and methods from multiple sources."
      ]
    },
    {
      "cell_type": "code",
      "execution_count": null,
      "id": "12e02e76",
      "metadata": {
        "id": "12e02e76",
        "outputId": "7086a809-f88a-422f-d338-141d023f57e8"
      },
      "outputs": [
        {
          "name": "stdout",
          "output_type": "stream",
          "text": [
            "Engine started.\n",
            "Wheels are rotating.\n",
            "Car is driving.\n"
          ]
        }
      ],
      "source": [
        "class Engine:\n",
        "    def start_engine(self):\n",
        "        print(\"Engine started.\")\n",
        "\n",
        "class Wheels:\n",
        "    def rotate_wheels(self):\n",
        "        print(\"Wheels are rotating.\")\n",
        "\n",
        "class Car(Engine, Wheels):  # Inheriting from Engine and Wheels\n",
        "    def drive(self):\n",
        "        print(\"Car is driving.\")\n",
        "\n",
        "# Usage\n",
        "my_car = Car()\n",
        "my_car.start_engine()  # Method from Engine\n",
        "my_car.rotate_wheels() # Method from Wheels\n",
        "my_car.drive()         # Method from Car\n"
      ]
    },
    {
      "cell_type": "markdown",
      "id": "be90f3de",
      "metadata": {
        "id": "be90f3de"
      },
      "source": [
        "# Multilevel Inheritance\n",
        "\n",
        "In multilevel inheritance, a child class inherits from a parent class, which in turn inherits from another parent class, creating a chain of inheritance."
      ]
    },
    {
      "cell_type": "code",
      "execution_count": null,
      "id": "f9369f59",
      "metadata": {
        "id": "f9369f59",
        "outputId": "a45ea55a-f86e-46f1-9c11-c0a950e0998d"
      },
      "outputs": [
        {
          "name": "stdout",
          "output_type": "stream",
          "text": [
            "Animal is eating.\n",
            "Dog is barking.\n",
            "Puppy is weeping.\n"
          ]
        }
      ],
      "source": [
        "class Animal:\n",
        "    def eat(self):\n",
        "        print(\"Animal is eating.\")\n",
        "\n",
        "class Dog(Animal):  # Dog inherits from Animal\n",
        "    def bark(self):\n",
        "        print(\"Dog is barking.\")\n",
        "\n",
        "class Puppy(Dog):  # Puppy inherits from Dog\n",
        "    def weep(self):\n",
        "        print(\"Puppy is weeping.\")\n",
        "\n",
        "# Usage\n",
        "puppy = Puppy()\n",
        "puppy.eat()   # Method from Animal\n",
        "puppy.bark()  # Method from Dog\n",
        "puppy.weep()  # Method from Puppy\n"
      ]
    },
    {
      "cell_type": "markdown",
      "id": "44f4c347",
      "metadata": {
        "id": "44f4c347"
      },
      "source": [
        "# Case Study 1: E-Commerce Order Management\n",
        "    \n",
        "Scenario: You are designing an e-commerce order system. The system includes:\n",
        "\n",
        "Customer class (with name and contact details).\n",
        "\n",
        "Product class (with name and price).\n",
        "\n",
        "Order class (that inherits Customer and Product to manage customer orders).\n",
        "\n",
        "Requirements:\n",
        "    \n",
        "Customer should store customer details.\n",
        "\n",
        "Product should store product details.\n",
        "\n",
        "Order should generate an order summary for a customer, including product details."
      ]
    },
    {
      "cell_type": "markdown",
      "id": "9e7dbf24",
      "metadata": {
        "id": "9e7dbf24"
      },
      "source": [
        "# Case Study 3: Vehicle Hierarchy\n",
        "    \n",
        "Scenario: Build a vehicle system with the following structure:\n",
        "\n",
        "A Vehicle class (general attributes like speed and fuel).\n",
        "\n",
        "A Car class (inherits Vehicle and adds features like air conditioning).\n",
        "\n",
        "A ElectricCar class (inherits Car and adds battery management).\n",
        "\n",
        "Requirements:\n",
        "    \n",
        "Vehicle should have methods like start() and stop().\n",
        "\n",
        "Car should add methods for turn_on_ac() and turn_off_ac().\n",
        "\n",
        "ElectricCar should add a method charge_battery()."
      ]
    },
    {
      "cell_type": "markdown",
      "id": "082b2d57",
      "metadata": {
        "id": "082b2d57"
      },
      "source": [
        "# Case Study 4: Office Employee Management\n",
        "    \n",
        "Scenario: You need to create a system for managing employees:\n",
        "\n",
        "Person class (general details like name and age).\n",
        "\n",
        "Employee class (inherits Person and adds employee ID and designation).\n",
        "\n",
        "Manager class (inherits Employee and adds team management responsibilities).\n",
        "\n",
        "Requirements:\n",
        "    \n",
        "Person should have methods to display basic details.\n",
        "\n",
        "Employee should add methods to display job details.\n",
        "\n",
        "Manager should add a method to list team members."
      ]
    },
    {
      "cell_type": "markdown",
      "id": "dec60967",
      "metadata": {
        "id": "dec60967"
      },
      "source": [
        "# Case Study 5: Online Education Platform\n",
        "    \n",
        "Scenario: Design a class hierarchy for an online education platform:\n",
        "\n",
        "Course class (general course details like name and duration).\n",
        "\n",
        "Instructor class (instructors who teach courses).\n",
        "\n",
        "LiveCourse class (inherits both Course and Instructor to combine live teaching).\n",
        "\n",
        "Requirements:\n",
        "    \n",
        "Course should have methods like show_course_details().\n",
        "\n",
        "Instructor should have methods to display instructor details.\n",
        "\n",
        "LiveCourse should combine and display course and instructor details."
      ]
    },
    {
      "cell_type": "markdown",
      "id": "e9668c0c",
      "metadata": {
        "id": "e9668c0c"
      },
      "source": [
        "# 1. Class Method\n",
        "\n",
        "A class method is a method that operates on the class itself rather than an instance of the class. It is defined using the @classmethod decorator and takes cls (class reference) as its first parameter."
      ]
    },
    {
      "cell_type": "markdown",
      "id": "d8fc71b0",
      "metadata": {
        "id": "d8fc71b0"
      },
      "source": [
        "# Features of Class Methods:\n",
        "    \n",
        "Operates on the class rather than instance-specific data.\n",
        "\n",
        "Can modify the class state using cls.\n",
        "\n",
        "Can be called on both the class and its objects."
      ]
    },
    {
      "cell_type": "code",
      "execution_count": null,
      "id": "e8f305d7",
      "metadata": {
        "colab": {
          "base_uri": "https://localhost:8080/"
        },
        "id": "e8f305d7",
        "outputId": "d60a5e86-3410-4ead-c5c0-efa1c1269afa"
      },
      "outputs": [
        {
          "output_type": "stream",
          "name": "stdout",
          "text": [
            "Tech Solutions\n",
            "Future Tech\n",
            "Physics\n",
            "Physics\n",
            "Rebel\n"
          ]
        }
      ],
      "source": [
        "class Employee:\n",
        "    company_name = \"Tech Solutions\"\n",
        "\n",
        "    def __init__(self, name, salary):\n",
        "        self.name = name\n",
        "        self.salary = salary\n",
        "\n",
        "    @classmethod\n",
        "    def change_company_name(cls, new_name):\n",
        "        cls.company_name = new_name\n",
        "\n",
        "# Usage\n",
        "emp1 = Employee(\"Sam\", 50000)\n",
        "emp2 = Employee(\"Rahul\", 60000)\n",
        "emp3 = Employee('Sumit' , 75000)\n",
        "\n",
        "# Access the class attribute\n",
        "print(Employee.company_name)\n",
        "\n",
        "# Change the class attribute using class method\n",
        "Employee.change_company_name(\"Future Tech\")\n",
        "print(Employee.company_name)\n",
        "\n",
        "emp1.company_name\n",
        "emp1.change_company_name('Physics')\n",
        "emp1.company_name\n",
        "\n",
        "print(emp2.company_name)\n",
        "print(emp3.company_name)\n",
        "emp3.change_company_name(\"Rebel\")\n",
        "print(emp3.company_name)"
      ]
    },
    {
      "cell_type": "markdown",
      "id": "6d7ee795",
      "metadata": {
        "id": "6d7ee795"
      },
      "source": [
        "# 2. Static Method\n",
        "\n",
        "A static method is a method that does not operate on either the class or the instance. It behaves like a regular function but is defined inside a class for logical grouping. It is marked with the @staticmethod decorator."
      ]
    },
    {
      "cell_type": "markdown",
      "id": "741ec648",
      "metadata": {
        "id": "741ec648"
      },
      "source": [
        "# Features of Static Methods:\n",
        "    \n",
        "Does not require self or cls as parameters.\n",
        "\n",
        "Cannot modify class or instance attributes.\n",
        "\n",
        "Useful for utility or helper methods that do not rely on the class or instance."
      ]
    },
    {
      "cell_type": "code",
      "execution_count": null,
      "id": "de37d57d",
      "metadata": {
        "id": "de37d57d",
        "outputId": "edf6cd5c-a48d-4b49-eb1a-741b84bf52e0"
      },
      "outputs": [
        {
          "name": "stdout",
          "output_type": "stream",
          "text": [
            "8\n",
            "6\n"
          ]
        }
      ],
      "source": [
        "class MathOperations:\n",
        "    @staticmethod\n",
        "    def add(a, b):\n",
        "        return a + b\n",
        "\n",
        "    @staticmethod\n",
        "    def subtract(a, b):\n",
        "        return a - b\n",
        "\n",
        "# Usage\n",
        "print(MathOperations.add(5, 3))\n",
        "print(MathOperations.subtract(10, 4))"
      ]
    },
    {
      "cell_type": "code",
      "execution_count": null,
      "id": "31e70843",
      "metadata": {
        "id": "31e70843",
        "outputId": "0da942d0-a755-41b7-ad19-19ab5e0456f1"
      },
      "outputs": [
        {
          "name": "stdout",
          "output_type": "stream",
          "text": [
            "Name of employee is sam and role is frontenddeveloper\n",
            "This is great job\n"
          ]
        }
      ],
      "source": [
        "class Employee:\n",
        "    location = 'Jaipur'\n",
        "\n",
        "    def __init__(self , name , role):\n",
        "        self.name = name\n",
        "        self.role = role\n",
        "\n",
        "    def getInfo(self):\n",
        "        print(f\"Name of employee is {self.name} and role is {self.role}\")\n",
        "    @staticmethod\n",
        "    def NewInfo():\n",
        "        print(f\"This is great job\")\n",
        "\n",
        "a = Employee('sam' , 'frontenddeveloper')\n",
        "a.getInfo()\n",
        "a.NewInfo()"
      ]
    },
    {
      "cell_type": "markdown",
      "id": "d133b678",
      "metadata": {
        "id": "d133b678"
      },
      "source": [
        "# 3. super() Method\n",
        "\n",
        "The super() method is used to call a method from the parent class in the context of inheritance. It allows you to avoid explicitly referring to the parent class and makes the code more maintainable."
      ]
    },
    {
      "cell_type": "markdown",
      "id": "a81cab6a",
      "metadata": {
        "id": "a81cab6a"
      },
      "source": [
        "# Features of super():\n",
        "    \n",
        "Accesses parent class methods or attributes.\n",
        "\n",
        "Useful in multi-level or multiple inheritance.\n",
        "\n",
        "Helps in avoiding code repetition."
      ]
    },
    {
      "cell_type": "code",
      "execution_count": null,
      "id": "8f7621cb",
      "metadata": {
        "id": "8f7621cb",
        "outputId": "c13ad050-a8bd-4435-92c0-95da43de87f2"
      },
      "outputs": [
        {
          "name": "stdout",
          "output_type": "stream",
          "text": [
            "Hello, I am sam from the Parent class.\n",
            "I am 10 years old from the Child class.\n"
          ]
        }
      ],
      "source": [
        "class Parent:\n",
        "    def __init__(self, name):\n",
        "        self.name = name\n",
        "\n",
        "    def greet(self):\n",
        "        print(f\"Hello, I am {self.name} from the Parent class.\")\n",
        "\n",
        "class Child(Parent):\n",
        "    def __init__(self, name, age):\n",
        "        super().__init__(name)  # Call the Parent's __init__ method\n",
        "        self.age = age\n",
        "\n",
        "    def greet(self):\n",
        "        super().greet()  # Call the Parent's greet method\n",
        "        print(f\"I am {self.age} years old from the Child class.\")\n",
        "\n",
        "# Usage\n",
        "child = Child(\"sam\", 10)\n",
        "child.greet()\n"
      ]
    },
    {
      "cell_type": "markdown",
      "id": "b7921d3d",
      "metadata": {
        "id": "b7921d3d"
      },
      "source": [
        "# Case Study 1: Utility Functions with Static Methods\n",
        "    \n",
        "A company needs a utility class for performing various math operations like calculating the factorial, checking if a number is prime, and finding the greatest common divisor (GCD). Implement this functionality using static methods."
      ]
    },
    {
      "cell_type": "code",
      "execution_count": null,
      "id": "1ba95564",
      "metadata": {
        "id": "1ba95564",
        "outputId": "6745afcc-11b1-43ed-e273-92b445421a99"
      },
      "outputs": [
        {
          "name": "stdout",
          "output_type": "stream",
          "text": [
            "120\n",
            "True\n",
            "3\n"
          ]
        }
      ],
      "source": [
        "class MathUtils:\n",
        "    @staticmethod\n",
        "    def factorial(n):\n",
        "        if n == 0 or n == 1:\n",
        "            return 1\n",
        "        return n * MathUtils.factorial(n - 1)\n",
        "\n",
        "    @staticmethod\n",
        "    def is_prime(n):\n",
        "        if n <= 1:\n",
        "            return False\n",
        "        for i in range(2, int(n ** 0.5) + 1):\n",
        "            if n % i == 0:\n",
        "                return False\n",
        "        return True\n",
        "\n",
        "    @staticmethod\n",
        "    def gcd(a, b):\n",
        "        while b:\n",
        "            a, b = b, a % b\n",
        "        return a\n",
        "\n",
        "# Test\n",
        "print(MathUtils.factorial(5))  # Output: 120\n",
        "print(MathUtils.is_prime(11))  # Output: True\n",
        "print(MathUtils.gcd(12, 15))   # Output: 3\n"
      ]
    },
    {
      "cell_type": "markdown",
      "id": "474093c8",
      "metadata": {
        "id": "474093c8"
      },
      "source": [
        "# Case Study 2: Updating Class-Level Data with Class Methods\n",
        "    \n",
        "A bank maintains a class Account to manage customer accounts. It also keeps track of the total number of accounts opened. Implement this using a class method."
      ]
    },
    {
      "cell_type": "code",
      "execution_count": null,
      "id": "84548458",
      "metadata": {
        "id": "84548458",
        "outputId": "b27c132d-9b68-4ff9-acfd-e3176e59be92"
      },
      "outputs": [
        {
          "name": "stdout",
          "output_type": "stream",
          "text": [
            "2\n"
          ]
        }
      ],
      "source": [
        "class Account:\n",
        "    total_accounts = 0\n",
        "\n",
        "    def __init__(self, name):\n",
        "        self.name = name\n",
        "        Account.increment_accounts()\n",
        "\n",
        "    @classmethod\n",
        "    def increment_accounts(cls):\n",
        "        cls.total_accounts += 1\n",
        "\n",
        "    @classmethod\n",
        "    def get_total_accounts(cls):\n",
        "        return cls.total_accounts\n",
        "\n",
        "# Test\n",
        "acc1 = Account(\"Mohit\")\n",
        "acc2 = Account(\"Raj\")\n",
        "print(Account.get_total_accounts())  # Output: 2\n"
      ]
    },
    {
      "cell_type": "markdown",
      "id": "54e098bc",
      "metadata": {
        "id": "54e098bc"
      },
      "source": [
        "# Case Study 3: Using super() in Multi-Level Inheritance\n",
        "    \n",
        "A library system has BaseUser as the parent class, which has basic user details. Member inherits BaseUser and adds membership details. Finally, Librarian inherits Member and adds additional librarian-specific details. Use super() to initialize the attributes."
      ]
    },
    {
      "cell_type": "code",
      "execution_count": null,
      "id": "7c2dd7b5",
      "metadata": {
        "id": "7c2dd7b5",
        "outputId": "16a49eb6-a65e-4696-e458-15026c43bbbf"
      },
      "outputs": [
        {
          "name": "stdout",
          "output_type": "stream",
          "text": [
            "Rohit\n",
            "M123\n",
            "E001\n",
            "Name is: Rohit and membership is:M123\n",
            "None\n",
            "Name is: sam and membership is:rohit\n",
            "Name is: Rohit and membership is:M123\n"
          ]
        }
      ],
      "source": [
        "class BaseUser:\n",
        "    def __init__(self, name):\n",
        "        self.name = name\n",
        "\n",
        "class Member(BaseUser):\n",
        "    def __init__(self, name, membership_id):\n",
        "        super().__init__(name)\n",
        "        self.membership_id = membership_id\n",
        "\n",
        "    def getInfo(self):\n",
        "        print(f\"Name is: {self.name} and membership is:{self.membership_id}\")\n",
        "\n",
        "class Librarian(Member):\n",
        "    def __init__(self, name, membership_id, employee_id):\n",
        "        super().__init__(name, membership_id)\n",
        "        self.employee_id = employee_id\n",
        "\n",
        "    def getInfo(self):\n",
        "        print(f\"Name is: {self.name} and membership is:{self.membership_id}\")\n",
        "\n",
        "# Test\n",
        "librarian = Librarian(\"Rohit\", \"M123\", \"E001\")\n",
        "print(librarian.name)\n",
        "print(librarian.membership_id)\n",
        "print(librarian.employee_id)\n",
        "print(librarian.getInfo())\n",
        "\n",
        "b = Member('sam' , 'rohit')\n",
        "b.getInfo()\n",
        "librarian.getInfo()"
      ]
    },
    {
      "cell_type": "markdown",
      "id": "f9d217d4",
      "metadata": {
        "id": "f9d217d4"
      },
      "source": [
        "# Case Study 4: Dynamic Configuration Updates with Class Methods\n",
        "    \n",
        "An e-commerce platform has a Product class that stores information about discount rates. The discount rate needs to be updated for the entire class when a sale is announced. Implement this using a class method."
      ]
    },
    {
      "cell_type": "code",
      "execution_count": null,
      "id": "4b51ccf0",
      "metadata": {
        "id": "4b51ccf0",
        "outputId": "33897c70-9f89-4b50-c604-fa06b47632e9"
      },
      "outputs": [
        {
          "name": "stdout",
          "output_type": "stream",
          "text": [
            "900.0\n",
            "450.0\n"
          ]
        }
      ],
      "source": [
        "class Product:\n",
        "    discount_rate = 0.0  # Class-level attribute\n",
        "\n",
        "    def __init__(self, name, price):\n",
        "        self.name = name\n",
        "        self.price = price\n",
        "\n",
        "    def get_price_after_discount(self):\n",
        "        return self.price - (self.price * Product.discount_rate)\n",
        "\n",
        "    @classmethod\n",
        "    def set_discount_rate(cls, rate):\n",
        "        cls.discount_rate = rate\n",
        "\n",
        "# Test\n",
        "Product.set_discount_rate(0.1)  # Set a 10% discount\n",
        "product1 = Product(\"Laptop\", 1000)\n",
        "product2 = Product(\"Phone\", 500)\n",
        "\n",
        "print(product1.get_price_after_discount())  # Output: 900.0\n",
        "print(product2.get_price_after_discount())  # Output: 450.0\n"
      ]
    },
    {
      "cell_type": "markdown",
      "id": "5dc17158",
      "metadata": {
        "id": "5dc17158"
      },
      "source": [
        "# Why We Use Polymorphism in OOP?\n",
        "\n",
        "Polymorphism allows objects of different classes to be treated as objects of a common superclass. It enables a single interface to represent different underlying forms (data types). This makes the code more flexible, reusable, and easier to extend.\n",
        "\n",
        "Key Benefits of Polymorphism\n",
        "\n",
        "Code Reusability: You can write more generic code that works with objects of different types.\n",
        "\n",
        "Flexibility: New classes can be added with minimal changes to existing code.\n",
        "\n",
        "Readability: Simplifies complex logic by using a single method name for multiple actions."
      ]
    },
    {
      "cell_type": "code",
      "execution_count": null,
      "id": "8a4023d4",
      "metadata": {
        "id": "8a4023d4"
      },
      "outputs": [],
      "source": [
        "# For example:\n",
        "\n",
        "# A cat and a dog both have a method called speak(). But the cat says \"meow,\" while the dog says \"woof.\"\n",
        "# The method name is the same,\n",
        "# but the behavior is different for each class."
      ]
    },
    {
      "cell_type": "code",
      "execution_count": null,
      "id": "0e77a4ea",
      "metadata": {
        "id": "0e77a4ea",
        "outputId": "97ef8163-1e88-4de2-afa8-e88c5a8bb6dd"
      },
      "outputs": [
        {
          "name": "stdout",
          "output_type": "stream",
          "text": [
            "Woof!\n",
            "Meow!\n",
            "Moo!\n"
          ]
        }
      ],
      "source": [
        "class Animal:\n",
        "    def speak(self):\n",
        "        pass  # Base method with no implementation\n",
        "\n",
        "class Dog(Animal):\n",
        "    def speak(self):\n",
        "        return \"Woof!\"\n",
        "\n",
        "class Cat(Animal):\n",
        "    def speak(self):\n",
        "        return \"Meow!\"\n",
        "\n",
        "class Cow(Animal):\n",
        "    def speak(self):\n",
        "        return \"Moo!\"\n",
        "\n",
        "# Function to demonstrate polymorphism\n",
        "def make_animal_speak(animal):\n",
        "    print(animal.speak())\n",
        "\n",
        "# Usage\n",
        "animals = [Dog(), Cat(), Cow()]\n",
        "\n",
        "for animal in animals:\n",
        "    make_animal_speak(animal)\n"
      ]
    },
    {
      "cell_type": "markdown",
      "id": "cd3bbc55",
      "metadata": {
        "id": "cd3bbc55"
      },
      "source": [
        "# Question 2: Can you use polymorphism to sort objects of different classes?\n",
        "    \n",
        "Task: You have two classes, Student and Teacher, each with a method get_name().\n",
        "    \n",
        "    Implement polymorphism to sort their names alphabetically."
      ]
    },
    {
      "cell_type": "code",
      "execution_count": null,
      "id": "f9890870",
      "metadata": {
        "id": "f9890870",
        "outputId": "0cc600de-79ed-44bc-9838-3f7414621355"
      },
      "outputs": [
        {
          "name": "stdout",
          "output_type": "stream",
          "text": [
            "Aniket\n",
            "Mohit\n",
            "Raj\n",
            "Sam\n"
          ]
        }
      ],
      "source": [
        "class Student:\n",
        "    def __init__(self, name):\n",
        "        self.name = name\n",
        "\n",
        "    def get_name(self):\n",
        "        return self.name\n",
        "\n",
        "class Teacher:\n",
        "    def __init__(self, name):\n",
        "        self.name = name\n",
        "\n",
        "    def get_name(self):\n",
        "        return self.name\n",
        "\n",
        "# Create objects\n",
        "objects = [Student(\"Sam\"), Teacher(\"Mohit\"), Student(\"Raj\"), Teacher(\"Aniket\")]\n",
        "\n",
        "# Sort by name\n",
        "sorted_objects = sorted(objects, key=lambda obj: obj.get_name())\n",
        "\n",
        "# Print sorted names\n",
        "for obj in sorted_objects:\n",
        "    print(obj.get_name())\n"
      ]
    },
    {
      "cell_type": "markdown",
      "id": "973e9e0c",
      "metadata": {
        "id": "973e9e0c"
      },
      "source": [
        "# What is Overriding in Python?\n",
        "\n",
        "Overriding is a feature in Object-Oriented Programming where a subclass provides a specific implementation for a method that is already defined in its parent class. The overridden method in the subclass will be executed instead of the one in the parent class when called on an instance of the subclass."
      ]
    },
    {
      "cell_type": "markdown",
      "id": "f339a9a1",
      "metadata": {
        "id": "f339a9a1"
      },
      "source": [
        "# Key Points about Overriding:\n",
        "    \n",
        "Happens between a parent class and a child class.\n",
        "\n",
        "The method in the child class must have the same name and parameters as the method in the parent class.\n",
        "\n",
        "Used to provide specific behavior in a subclass.\n"
      ]
    },
    {
      "cell_type": "code",
      "execution_count": null,
      "id": "591a2727",
      "metadata": {
        "id": "591a2727",
        "outputId": "25798552-5d38-42b9-cbea-4787a52a026f"
      },
      "outputs": [
        {
          "name": "stdout",
          "output_type": "stream",
          "text": [
            "Vehicle is moving\n",
            "Car is moving on four wheels\n",
            "Bike is moving on two wheels\n"
          ]
        }
      ],
      "source": [
        "# Imagine a Vehicle class that has a method move, and different types of vehicles behave differently.\n",
        "\n",
        "class Vehicle:\n",
        "    def move(self):\n",
        "        print(\"Vehicle is moving\")\n",
        "\n",
        "class Car(Vehicle):\n",
        "    def move(self):\n",
        "        print(\"Car is moving on four wheels\")\n",
        "\n",
        "class Bike(Vehicle):\n",
        "    def move(self):\n",
        "        print(\"Bike is moving on two wheels\")\n",
        "\n",
        "# Instances\n",
        "vehicle = Vehicle()\n",
        "car = Car()\n",
        "bike = Bike()\n",
        "\n",
        "vehicle.move()  # Output: Vehicle is moving\n",
        "car.move()      # Output: Car is moving on four wheels\n",
        "bike.move()     # Output: Bike is moving on two wheels\n"
      ]
    },
    {
      "cell_type": "markdown",
      "id": "72d24a40",
      "metadata": {
        "id": "72d24a40"
      },
      "source": [
        "# What is Overloading in Python?\n",
        "\n",
        "Overloading allows the same function or operator to behave differently based on the number or type of arguments. While Python does not support method overloading directly, it can be mimicked using default arguments or by checking argument types.\n",
        "\n"
      ]
    },
    {
      "cell_type": "markdown",
      "id": "9df8f891",
      "metadata": {
        "id": "9df8f891"
      },
      "source": [
        "# Key Points about Overloading:\n",
        "    \n",
        "It allows the same function to handle different numbers or types of inputs.\n",
        "\n",
        "Python doesn't support true method overloading like other languages, but you can achieve similar functionality using default parameters or *args/**kwargs."
      ]
    },
    {
      "cell_type": "code",
      "execution_count": null,
      "id": "c19de4f0",
      "metadata": {
        "id": "c19de4f0",
        "outputId": "db79b400-bee2-48ae-bf38-86b41ba51fc5"
      },
      "outputs": [
        {
          "name": "stdout",
          "output_type": "stream",
          "text": [
            "Hello, Guest!\n",
            "Hello, Raj!\n"
          ]
        }
      ],
      "source": [
        "def greet(name=\"Guest\"):\n",
        "    print(f\"Hello, {name}!\")\n",
        "\n",
        "greet()\n",
        "greet(\"Raj\")\n"
      ]
    },
    {
      "cell_type": "markdown",
      "id": "8db3a52a",
      "metadata": {
        "id": "8db3a52a"
      },
      "source": [
        "# Case Study -1: Payment Processing System\n",
        "Imagine a payment processing system for an e-commerce application. The system can handle multiple payment methods like credit cards, PayPal, and bank transfers. Each payment method has a different implementation for processing payments, but the system treats them uniformly through polymorphism."
      ]
    },
    {
      "cell_type": "code",
      "execution_count": null,
      "id": "890d4b50",
      "metadata": {
        "id": "890d4b50",
        "outputId": "b77c9302-1b5b-4cf5-d009-be067b422f1f"
      },
      "outputs": [
        {
          "name": "stdout",
          "output_type": "stream",
          "text": [
            "Processing credit card payment of $100.5\n",
            "Processing PayPal payment of $200.75\n",
            "Processing bank transfer payment of $500.0\n"
          ]
        }
      ],
      "source": [
        "# Base class\n",
        "class PaymentMethod:\n",
        "    def process_payment(self, amount):\n",
        "        raise NotImplementedError(\"Subclasses must implement this method\")\n",
        "\n",
        "# Derived class for Credit Card payment\n",
        "class CreditCardPayment(PaymentMethod):\n",
        "    def process_payment(self, amount):\n",
        "        print(f\"Processing credit card payment of ${amount}\")\n",
        "\n",
        "# Derived class for PayPal payment\n",
        "class PayPalPayment(PaymentMethod):\n",
        "    def process_payment(self, amount):\n",
        "        print(f\"Processing PayPal payment of ${amount}\")\n",
        "\n",
        "# Derived class for Bank Transfer payment\n",
        "class BankTransferPayment(PaymentMethod):\n",
        "    def process_payment(self, amount):\n",
        "        print(f\"Processing bank transfer payment of ${amount}\")\n",
        "\n",
        "# Function to process any payment method\n",
        "def process_transaction(payment_method, amount):\n",
        "    payment_method.process_payment(amount)\n",
        "\n",
        "# Real-life usage\n",
        "if __name__ == \"__main__\":\n",
        "    # Create instances of different payment methods\n",
        "    credit_card = CreditCardPayment()\n",
        "    paypal = PayPalPayment()\n",
        "    bank_transfer = BankTransferPayment()\n",
        "\n",
        "    # Process payments using polymorphism\n",
        "    process_transaction(credit_card, 100.50)\n",
        "    process_transaction(paypal, 200.75)\n",
        "    process_transaction(bank_transfer, 500.00)\n"
      ]
    },
    {
      "cell_type": "code",
      "execution_count": null,
      "id": "a4eccd69",
      "metadata": {
        "id": "a4eccd69"
      },
      "outputs": [],
      "source": [
        "# Base Class (PaymentMethod):\n",
        "\n",
        "# Defines a common interface (process_payment) that all payment methods must implement.\n",
        "# Derived Classes:\n",
        "\n",
        "# CreditCardPayment, PayPalPayment, and BankTransferPayment implement the process_payment method differently based on their specific logic.\n",
        "# Polymorphism in Action:\n",
        "\n",
        "# The process_transaction function takes a PaymentMethod object and processes the payment. The specific implementation is determined at runtime based on the actual object type."
      ]
    },
    {
      "cell_type": "markdown",
      "id": "13835bb3",
      "metadata": {
        "id": "13835bb3"
      },
      "source": [
        "# Case Study -2: Employee Management System\n",
        "In a company, there are different types of employees, such as full-time employees, part-time employees, and freelancers. Each type of employee has a different way of calculating their salary. Polymorphism can be used to handle this scenario by defining a common interface for salary calculation and letting each employee type implement their specific logic."
      ]
    },
    {
      "cell_type": "code",
      "execution_count": null,
      "id": "88896ff5",
      "metadata": {
        "id": "88896ff5",
        "outputId": "dad17b3c-fa00-4ca5-fdf7-28cbb8623e64"
      },
      "outputs": [
        {
          "name": "stdout",
          "output_type": "stream",
          "text": [
            "Full-Time Employee:\n",
            "Salary: $5000\n",
            "\n",
            "Part-Time Employee:\n",
            "Salary: $1600\n",
            "\n",
            "Freelancer:\n",
            "Salary: $3000\n"
          ]
        }
      ],
      "source": [
        "# Base class\n",
        "class Employee:\n",
        "    def calculate_salary(self):\n",
        "        raise NotImplementedError(\"Subclasses must implement this method\")\n",
        "\n",
        "# Derived class for Full-Time Employees\n",
        "class FullTimeEmployee(Employee):\n",
        "    def __init__(self, monthly_salary):\n",
        "        self.monthly_salary = monthly_salary\n",
        "\n",
        "    def calculate_salary(self):\n",
        "        return self.monthly_salary\n",
        "\n",
        "# Derived class for Part-Time Employees\n",
        "class PartTimeEmployee(Employee):\n",
        "    def __init__(self, hourly_rate, hours_worked):\n",
        "        self.hourly_rate = hourly_rate\n",
        "        self.hours_worked = hours_worked\n",
        "\n",
        "    def calculate_salary(self):\n",
        "        return self.hourly_rate * self.hours_worked\n",
        "\n",
        "# Derived class for Freelancers\n",
        "class Freelancer(Employee):\n",
        "    def __init__(self, project_rate):\n",
        "        self.project_rate = project_rate\n",
        "\n",
        "    def calculate_salary(self):\n",
        "        return self.project_rate\n",
        "\n",
        "# Function to display employee details\n",
        "def display_employee_salary(employee):\n",
        "    print(f\"Salary: ${employee.calculate_salary()}\")\n",
        "\n",
        "# Real-life usage\n",
        "if __name__ == \"__main__\":\n",
        "    # Create instances of different types of employees\n",
        "    full_time_employee = FullTimeEmployee(monthly_salary=5000)\n",
        "    part_time_employee = PartTimeEmployee(hourly_rate=20, hours_worked=80)\n",
        "    freelancer = Freelancer(project_rate=3000)\n",
        "\n",
        "    # Display salaries using polymorphism\n",
        "    print(\"Full-Time Employee:\")\n",
        "    display_employee_salary(full_time_employee)\n",
        "\n",
        "    print(\"\\nPart-Time Employee:\")\n",
        "    display_employee_salary(part_time_employee)\n",
        "\n",
        "    print(\"\\nFreelancer:\")\n",
        "    display_employee_salary(freelancer)\n"
      ]
    },
    {
      "cell_type": "code",
      "execution_count": null,
      "id": "6326340a",
      "metadata": {
        "id": "6326340a"
      },
      "outputs": [],
      "source": [
        "# Base Class (Employee):\n",
        "\n",
        "# Defines a common interface (calculate_salary) that all employee types must implement.\n",
        "# Derived Classes:\n",
        "\n",
        "# FullTimeEmployee calculates salary based on a fixed monthly salary.\n",
        "# PartTimeEmployee calculates salary based on an hourly rate and hours worked.\n",
        "# Freelancer calculates salary based on a project rate.\n",
        "# Polymorphism in Action:\n",
        "\n",
        "# The display_employee_salary function takes an Employee object and calls the calculate_salary method. The specific implementation is determined at runtime based on the actual object type."
      ]
    },
    {
      "cell_type": "code",
      "execution_count": null,
      "id": "db0d5513",
      "metadata": {
        "id": "db0d5513"
      },
      "outputs": [],
      "source": []
    },
    {
      "cell_type": "markdown",
      "id": "169e6a68",
      "metadata": {
        "id": "169e6a68"
      },
      "source": [
        "# __name__ == \"__main__\"\n",
        "\n",
        "When a Python script is executed, the interpreter assigns a special variable called __name__ to the script.\n",
        "\n",
        "This variable helps identify whether the script is being run directly or being imported into another script.\n",
        "\n",
        "(1). When the script is run directly (e.g., python script.py):\n",
        "\n",
        "The value of __name__ is set to \"__main__\".\n",
        "\n",
        "Any code inside the if __name__ == \"__main__\": block will be executed.\n",
        "    \n",
        "(2). When the script is imported as a module:\n",
        "\n",
        "The value of __name__ is set to the name of the module (i.e., the filename without the .py extension).\n",
        "\n",
        "The code inside the if __name__ == \"__main__\": block will not execute."
      ]
    },
    {
      "cell_type": "code",
      "execution_count": null,
      "id": "7cc66d20",
      "metadata": {
        "id": "7cc66d20",
        "outputId": "f63cc29b-c8bb-4256-9df0-8faae6b5b05f"
      },
      "outputs": [
        {
          "name": "stdout",
          "output_type": "stream",
          "text": [
            "Testing math utilities:\n",
            "3 + 5 = 8\n",
            "10 - 4 = 6\n"
          ]
        }
      ],
      "source": [
        "# Ex.1 (File: math_utils.py)\n",
        "# math_utils.py\n",
        "def add(a, b):\n",
        "    return a + b\n",
        "\n",
        "def subtract(a, b):\n",
        "    return a - b\n",
        "\n",
        "if __name__ == \"__main__\":\n",
        "    print(\"Testing math utilities:\")\n",
        "    print(f\"3 + 5 = {add(3, 5)}\")\n",
        "    print(f\"10 - 4 = {subtract(10, 4)}\")\n"
      ]
    },
    {
      "cell_type": "code",
      "execution_count": null,
      "id": "7901698a",
      "metadata": {
        "id": "7901698a"
      },
      "outputs": [],
      "source": [
        "# # Import into another file:\n",
        "\n",
        "# # main.py\n",
        "\n",
        "# from math_utils import add, subtract\n",
        "\n",
        "# print(f\"Addition: {add(7, 3)}\")\n",
        "# print(f\"Subtraction: {subtract(10, 5)}\")"
      ]
    },
    {
      "cell_type": "markdown",
      "id": "71bab1e5",
      "metadata": {
        "id": "71bab1e5"
      },
      "source": [
        "# Decorators In Python\n",
        "\n",
        "In Python, decorators are a way to modify or enhance the behavior of functions or methods without directly changing their code.\n",
        "In OOP, decorators are commonly used to extend the functionality of class methods, functions, or even the entire class\n",
        "in a clean, reusable way.\n",
        "\n",
        "\n",
        "Think of a decorator as a wrapper around a function or method.\n",
        "\n",
        "The wrapper allows you to add extra behavior before or after the function runs.\n",
        "\n",
        "You apply a decorator using the @decorator_name syntax."
      ]
    },
    {
      "cell_type": "code",
      "execution_count": null,
      "id": "b41d0def",
      "metadata": {
        "id": "b41d0def"
      },
      "outputs": [],
      "source": [
        "# Example 1: Logging Method Calls\n",
        "# Use Case: Log when a method is called."
      ]
    },
    {
      "cell_type": "code",
      "execution_count": null,
      "id": "9f9029bb",
      "metadata": {
        "id": "9f9029bb",
        "outputId": "5100e42f-9716-4486-e0c8-53038a3e4d5b"
      },
      "outputs": [
        {
          "name": "stdout",
          "output_type": "stream",
          "text": [
            "Function 'greet' is called\n",
            "Hello, Saurabh!\n",
            "Function 'greet' finished execution\n"
          ]
        }
      ],
      "source": [
        "# Decorator Function\n",
        "def log_decorator(func):\n",
        "    def wrapper(*args, **kwargs):\n",
        "        print(f\"Function '{func.__name__}' is called\")\n",
        "        result = func(*args, **kwargs)  # Call the original function\n",
        "        print(f\"Function '{func.__name__}' finished execution\")\n",
        "        return result\n",
        "    return wrapper\n",
        "\n",
        "# Using the decorator\n",
        "@log_decorator\n",
        "def greet(name):\n",
        "    print(f\"Hello, {name}!\")\n",
        "\n",
        "# Call the function\n",
        "greet(\"Saurabh\")\n"
      ]
    },
    {
      "cell_type": "code",
      "execution_count": null,
      "id": "afdddf15",
      "metadata": {
        "id": "afdddf15",
        "outputId": "6e5bb7e2-d9ff-4e9a-8266-fa90869a2448"
      },
      "outputs": [
        {
          "name": "stdout",
          "output_type": "stream",
          "text": [
            "Hello, this is before function execution\n",
            "This is inside the function !!\n",
            "This is after function execution\n"
          ]
        }
      ],
      "source": [
        "# defining a decorator\n",
        "def hello_decorator(func):\n",
        "\n",
        "    # inner1 is a Wrapper function in\n",
        "    # which the argument is called\n",
        "\n",
        "    # inner function can access the outer local\n",
        "    # functions like in this case \"func\"\n",
        "    def inner1():\n",
        "        print(\"Hello, this is before function execution\")\n",
        "\n",
        "        # calling the actual function now\n",
        "        # inside the wrapper function.\n",
        "        func()\n",
        "\n",
        "        print(\"This is after function execution\")\n",
        "\n",
        "    return inner1\n",
        "\n",
        "\n",
        "# defining a function, to be called inside wrapper\n",
        "def function_to_be_used():\n",
        "    print(\"This is inside the function !!\")\n",
        "\n",
        "\n",
        "# passing 'function_to_be_used' inside the\n",
        "# decorator to control its behaviour\n",
        "function_to_be_used = hello_decorator(function_to_be_used)\n",
        "\n",
        "\n",
        "# calling the function\n",
        "function_to_be_used()"
      ]
    },
    {
      "cell_type": "code",
      "execution_count": null,
      "id": "ecbc5073",
      "metadata": {
        "id": "ecbc5073",
        "outputId": "906d7772-4471-42d0-db17-781222882a33"
      },
      "outputs": [
        {
          "name": "stdout",
          "output_type": "stream",
          "text": [
            "before Execution\n",
            "Inside the function\n",
            "after Execution\n",
            "Sum = 3\n"
          ]
        }
      ],
      "source": [
        "def hello_decorator(func):\n",
        "    def inner1(*args, **kwargs):\n",
        "\n",
        "        print(\"before Execution\")\n",
        "\n",
        "        # getting the returned value\n",
        "        returned_value = func(*args, **kwargs)\n",
        "        print(\"after Execution\")\n",
        "\n",
        "        # returning the value to the original frame\n",
        "        return returned_value\n",
        "\n",
        "    return inner1\n",
        "\n",
        "\n",
        "# adding decorator to the function\n",
        "@hello_decorator\n",
        "def sum_two_numbers(a, b):\n",
        "    print(\"Inside the function\")\n",
        "    return a + b\n",
        "\n",
        "a, b = 1, 2\n",
        "\n",
        "# getting the value through return of the function\n",
        "print(\"Sum =\", sum_two_numbers(a, b))"
      ]
    },
    {
      "cell_type": "markdown",
      "id": "3867d2bf",
      "metadata": {
        "id": "3867d2bf"
      },
      "source": [
        "# Test Paper"
      ]
    },
    {
      "cell_type": "markdown",
      "id": "1a40d598",
      "metadata": {
        "id": "1a40d598"
      },
      "source": [
        "# Case Study 1: Smart Parking System\n",
        "    \n",
        "Problem Statement:\n",
        "    \n",
        "Design a Smart Parking System for a city. The system should manage parking spaces, calculate\n",
        "parking fees, and handle vehicle entry and exit.\n",
        "\n",
        "Requirements:\n",
        "    \n",
        "Classes:\n",
        "    \n",
        "Vehicle: Attributes include vehicle_id, type (car, bike, etc.), and entry_time.\n",
        "    \n",
        "ParkingSlot: Attributes include slot_id, size, and availability.\n",
        "    \n",
        "ParkingLot: Manages a collection of parking slots and vehicles.\n",
        "    \n",
        "Payment: Handles parking fee calculations.\n",
        "    \n",
        "Features:\n",
        "    \n",
        "Assign available parking slots based on vehicle size.\n",
        "\n",
        "Track the time a vehicle is parked and calculate parking fees dynamically (e.g., hourly rates\n",
        "                                                                           for cars vs. bikes).\n",
        "Generate a report of available and occupied slots in real-time.\n",
        "\n",
        "Handle payments, including discounts for frequent users."
      ]
    },
    {
      "cell_type": "markdown",
      "id": "a4788ed0",
      "metadata": {
        "id": "a4788ed0"
      },
      "source": [
        "# Case Study 2: Personalized Learning Platform\n",
        "    \n",
        "Problem Statement:\n",
        "    \n",
        "Create a Personalized Learning Platform to recommend courses and track student progress\n",
        "based on individual preferences and performance.\n",
        "\n",
        "Requirements:\n",
        "    \n",
        "Classes:\n",
        "    \n",
        "Student: Attributes include student_id, name, preferred_topics, and progress.\n",
        "    \n",
        "Course: Attributes include course_id, title, difficulty_level, and duration.\n",
        "    \n",
        "LearningPath: Dynamically generates a customized path based on the student's preferences\n",
        "    and progress.\n",
        "    \n",
        "Features:\n",
        "    \n",
        "Recommend courses based on student preferences and learning history.\n",
        "\n",
        "Track progress in enrolled courses and suggest next steps.\n",
        "\n",
        "Generate certificates of completion for students after they finish a course.\n",
        "\n",
        "Provide detailed progress reports for each student.\n"
      ]
    },
    {
      "cell_type": "markdown",
      "id": "6d7d6b03",
      "metadata": {
        "id": "6d7d6b03"
      },
      "source": [
        "# Case Study 3: AI-Based Personal Shopping Assistant\n",
        "    \n",
        "Problem Statement:\n",
        "    \n",
        "Develop an AI-Based Personal Shopping Assistant to help users find products based on\n",
        "their preferences and budget.\n",
        "\n",
        "Requirements:\n",
        "    \n",
        "Classes:\n",
        "    \n",
        "User: Attributes include user_id, name, preferences, and budget.\n",
        "    \n",
        "Product: Attributes include product_id, name, category, and price.\n",
        "    \n",
        "ShoppingAssistant: Recommends products, tracks shopping lists, and manages orders.\n",
        "    \n",
        "Features:\n",
        "    \n",
        "Recommend products based on the user's preferences (e.g., clothing style, electronics brand).\n",
        "\n",
        "Create and manage a shopping cart with dynamic budget updates.\n",
        "\n",
        "Generate personalized deals based on user purchase history.\n",
        "\n",
        "Provide insights such as total spending trends and savings."
      ]
    },
    {
      "cell_type": "markdown",
      "id": "47389e2c",
      "metadata": {
        "id": "47389e2c"
      },
      "source": [
        "# Case Study 4: Automated Drone Fleet Management\n",
        "    \n",
        "Problem Statement:\n",
        "    \n",
        "Build a system to manage a fleet of drones used for delivery services in a smart city.\n",
        "\n",
        "\n",
        "Requirements:\n",
        "    \n",
        "Classes:\n",
        "    \n",
        "Drone: Attributes include drone_id, capacity, battery_level, and current_location.\n",
        "    \n",
        "Delivery: Tracks delivery details such as delivery_id, package_weight, and destination.\n",
        "    \n",
        "FleetManager: Manages the entire fleet, assigns deliveries, and tracks drone health.\n",
        "    \n",
        "Features:\n",
        "    \n",
        "Assign drones to deliveries based on package weight and drone capacity.\n",
        "\n",
        "Monitor battery levels and send drones to charging stations when needed.\n",
        "\n",
        "Track real-time locations of all drones and optimize delivery routes.\n",
        "\n",
        "Generate performance reports for each drone, including delivery statistics and maintenance schedules."
      ]
    },
    {
      "cell_type": "markdown",
      "id": "80acbfb1",
      "metadata": {
        "id": "80acbfb1"
      },
      "source": [
        "# Recurssion in Python :\n",
        "    Recursion in Python refers to a process where a function calls itself to solve smaller\n",
        "    instances of the same problem. In Object-Oriented Programming (OOP), recursion can be used\n",
        "    within class methods to perform repetitive tasks.\n",
        "\n",
        "Key Features of Recursion:\n",
        "    \n",
        "(1). Base Case: A condition that stops the recursion to prevent infinite calls.\n",
        "    \n",
        "(2). Recursive Case: The part where the function calls itself with a modified argument."
      ]
    },
    {
      "cell_type": "code",
      "execution_count": null,
      "id": "1c2391ee",
      "metadata": {
        "id": "1c2391ee",
        "outputId": "5e28954d-4ddf-43e3-eac7-225a32c1aeac"
      },
      "outputs": [
        {
          "name": "stdout",
          "output_type": "stream",
          "text": [
            "The factorial of 5 is 120\n"
          ]
        }
      ],
      "source": [
        "# Example: Factorial Calculation Using Recursion in OOP\n",
        "\n",
        "class FactorialCalculator:\n",
        "\n",
        "\n",
        "    def calculate_factorial(self,n):\n",
        "        # Base case: factorial of 0 or 1 is 1\n",
        "        if n == 0 or n == 1:\n",
        "            return 1\n",
        "        else:\n",
        "            # Recursive case: n * factorial of (n-1)\n",
        "            return n * self.calculate_factorial(n - 1)\n",
        "\n",
        "\n",
        "calculator = FactorialCalculator()\n",
        "number = 5\n",
        "result = calculator.calculate_factorial(number)\n",
        "print(f\"The factorial of {number} is {result}\")\n"
      ]
    },
    {
      "cell_type": "code",
      "execution_count": null,
      "id": "d95fc952",
      "metadata": {
        "id": "d95fc952",
        "outputId": "363d9d1a-e556-4b36-b8b3-3689f8df22ba"
      },
      "outputs": [
        {
          "data": {
            "text/plain": [
              "120"
            ]
          },
          "execution_count": 8,
          "metadata": {},
          "output_type": "execute_result"
        }
      ],
      "source": [
        "def calculate_factorial(n):\n",
        "        # Base case: factorial of 0 or 1 is 1\n",
        "        if n == 0 or n == 1:\n",
        "            return 1\n",
        "        else:\n",
        "            # Recursive case: n * factorial of (n-1)\n",
        "            return n * calculate_factorial(n - 1)\n",
        "calculate_factorial(5)"
      ]
    },
    {
      "cell_type": "code",
      "execution_count": null,
      "id": "9bfef685",
      "metadata": {
        "id": "9bfef685"
      },
      "outputs": [],
      "source": [
        "# Explanation\n",
        "# Base Case:\n",
        "# If n is 0 or 1, the method returns 1 directly, ending the recursion.\n",
        "# Recursive Case:\n",
        "# For any other value of n, the method calls itself with n - 1 and multiplies n by the result\n",
        "# of the recursive call.\n",
        "# Execution Flow for calculate_factorial(5):\n",
        "# calculate_factorial(5) calls calculate_factorial(4).\n",
        "# calculate_factorial(4) calls calculate_factorial(3).\n",
        "# calculate_factorial(3) calls calculate_factorial(2).\n",
        "# calculate_factorial(2) calls calculate_factorial(1).\n",
        "# calculate_factorial(1) returns 1 (base case).\n",
        "# Results are returned step-by-step:\n",
        "# 2 * 1 = 2\n",
        "# 3 * 2 = 6\n",
        "# 4 * 6 = 24\n",
        "# 5 * 24 = 120\n",
        "# The final result is 120."
      ]
    },
    {
      "cell_type": "code",
      "execution_count": null,
      "id": "424afede",
      "metadata": {
        "id": "424afede"
      },
      "outputs": [],
      "source": [
        "# What are Generators in Python?\n",
        "# Generators in Python are a way to create iterators in a simple and memory-efficient way.\n",
        "# Instead of creating the entire sequence in memory at once, a generator produces items one at\n",
        "# a time and only when needed. This is especially useful when dealing with large datasets or\n",
        "\n",
        "# infinite sequences.\n",
        "\n",
        "# A generator function is like a normal function but uses the yield keyword instead of return.\n",
        "# When the generator is called, it doesn’t execute the function completely; instead, it returns a\n",
        "# generator object that can be iterated over.\n",
        "\n",
        "# Key Points about Generators:\n",
        "# Memory Efficient: Generators don’t store the entire sequence in memory.\n",
        "# Lazy Evaluation: Values are produced only when required.\n",
        "# State Retention: The function’s state is saved between yield calls."
      ]
    },
    {
      "cell_type": "code",
      "execution_count": null,
      "id": "bf3c06a7",
      "metadata": {
        "id": "bf3c06a7",
        "outputId": "2a76f6ac-90b8-482c-bd42-948e4757a6ea"
      },
      "outputs": [
        {
          "name": "stdout",
          "output_type": "stream",
          "text": [
            "1\n",
            "2\n",
            "3\n",
            "4\n",
            "5\n"
          ]
        }
      ],
      "source": [
        "# Example 1: Simple Generator for a Sequence of Numbers\n",
        "# A generator function to yield numbers from 1 to 5\n",
        "def number_generator():\n",
        "    for i in range(1, 6):\n",
        "        yield i\n",
        "\n",
        "# Using the generator\n",
        "gen = number_generator()\n",
        "for num in gen:\n",
        "    print(num)\n"
      ]
    },
    {
      "cell_type": "code",
      "execution_count": null,
      "id": "5673b4cf",
      "metadata": {
        "id": "5673b4cf",
        "outputId": "e5a15afa-9ad8-4638-c3a7-5afdfa9a98d4"
      },
      "outputs": [
        {
          "name": "stdout",
          "output_type": "stream",
          "text": [
            "<generator object number_generator at 0x00000202770527B0>\n"
          ]
        }
      ],
      "source": [
        "print(gen)"
      ]
    },
    {
      "cell_type": "code",
      "execution_count": null,
      "id": "52032dcc",
      "metadata": {
        "id": "52032dcc"
      },
      "outputs": [],
      "source": [
        "# When number_generator() is called, it doesn’t run the function but returns a generator object.\n",
        "# The for loop iterates over the generator, executing the function until it encounters a yield.\n",
        "# Each yield produces the next value, and the function pauses until the next iteration.\n",
        "# #"
      ]
    },
    {
      "cell_type": "code",
      "execution_count": null,
      "id": "201ab22f",
      "metadata": {
        "id": "201ab22f",
        "outputId": "9ce64ea2-44a9-422f-d534-98e8bef8ed68"
      },
      "outputs": [
        {
          "name": "stdout",
          "output_type": "stream",
          "text": [
            "1\n",
            "4\n",
            "9\n",
            "16\n",
            "25\n"
          ]
        }
      ],
      "source": [
        "# Example 3: Generator for Squares of Numbers\n",
        "# A generator function to yield squares of numbers\n",
        "def square_generator(n):\n",
        "    for i in range(1, n + 1):\n",
        "        yield i * i\n",
        "\n",
        "# Using the generator to print squares of numbers from 1 to 5\n",
        "squares = square_generator(5)\n",
        "for square in squares:\n",
        "    print(square)\n"
      ]
    },
    {
      "cell_type": "code",
      "execution_count": null,
      "id": "ef505758",
      "metadata": {
        "id": "ef505758"
      },
      "outputs": [],
      "source": [
        "# The generator function square_generator calculates the square of each number from 1 to n.\n",
        "# The yield keyword produces the square of the current number and pauses until the next iteration.\n",
        "# When iterated, it generates squares one at a time instead of creating a full list in memory."
      ]
    },
    {
      "cell_type": "code",
      "execution_count": null,
      "id": "87632481",
      "metadata": {
        "id": "87632481"
      },
      "outputs": [],
      "source": []
    }
  ],
  "metadata": {
    "kernelspec": {
      "display_name": "Python 3 (ipykernel)",
      "language": "python",
      "name": "python3"
    },
    "language_info": {
      "codemirror_mode": {
        "name": "ipython",
        "version": 3
      },
      "file_extension": ".py",
      "mimetype": "text/x-python",
      "name": "python",
      "nbconvert_exporter": "python",
      "pygments_lexer": "ipython3",
      "version": "3.9.12"
    },
    "colab": {
      "provenance": [],
      "include_colab_link": true
    }
  },
  "nbformat": 4,
  "nbformat_minor": 5
}